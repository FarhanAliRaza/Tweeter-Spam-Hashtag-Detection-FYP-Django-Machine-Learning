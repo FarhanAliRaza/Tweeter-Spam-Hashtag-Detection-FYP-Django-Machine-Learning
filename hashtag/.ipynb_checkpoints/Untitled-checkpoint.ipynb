{
 "cells": [
  {
   "cell_type": "code",
   "execution_count": 7,
   "metadata": {},
   "outputs": [],
   "source": [
    "import tweepy\n",
    "from tweepy import OAuthHandler, StreamListener\n",
    "import json"
   ]
  },
  {
   "cell_type": "code",
   "execution_count": 11,
   "metadata": {},
   "outputs": [
    {
     "name": "stdout",
     "output_type": "stream",
     "text": [
      "#BangBangConTheLive\n",
      "#DerreteJoice\n",
      "Jamais Vu\n",
      "just one day\n",
      "#ForcaLGBTQ\n",
      "ELES RENOVARAM O CONTRATO\n",
      "7 PRA SEMPRE\n",
      "THANK YOU BTS\n",
      "#DomingoDetremuraSDV\n",
      "OS DEDINHOS\n",
      "Fica de 3\n",
      "NAMGI\n",
      "FELIZ NATAL\n",
      "#selfiesforcode20\n",
      "Ning\n",
      "blindados da gizelly\n",
      "Soltura de Gabriel\n",
      "Luísa\n",
      "tiago iorc\n",
      "seis meses lucascampeao\n",
      "FaceApp\n",
      "Vitão\n",
      "Santo Antônio\n",
      "Messi\n",
      "Lara Jean\n",
      "Marrone\n",
      "xand\n",
      "Pegava\n",
      "bob esponja\n",
      "Laroyê Exu\n",
      "luan love hoje\n",
      "RENEW OUTER BANKS\n",
      "Ice Blue\n",
      "#soltemogabriel\n",
      "#SeductiveSunday\n",
      "#LuanLoveEmCasa\n",
      "#OSegredoNaFloresta\n",
      "#maratonacrepusculonomegapix\n",
      "#festival360\n",
      "#livedasanavitoria\n",
      "#livedudabeat\n",
      "#LiveDaFafá\n",
      "#BeMBrahmaLive\n",
      "#sabadodetremurasdv\n",
      "#happybirthdaychrisevans\n"
     ]
    }
   ],
   "source": [
    "class StdOutListener(StreamListener):\n",
    "\n",
    "    def on_data(self, data):\n",
    "        print(data)\n",
    "        return True\n",
    "\n",
    "    def on_error(self, status):\n",
    "        print(status)\n",
    "\n",
    "\n",
    "if __name__ == '__main__':\n",
    "\n",
    "    consumer_key = 'NFbD1D02Zcpiycf3R4ERNHVZT'\n",
    "    consumer_secret = 'gudVy9WtPFg5zM1vKD2gHMHrWCU6iZqVpRnRqDRYBdtFbSUYbQ'\n",
    "    access_token = '964918233391300609-0cnIOmL24ffvyQVd2M3IYNj01L6fUlp'\n",
    "    access_token_secret = '7IGEGg6c1lE14KIYcAIkomCSECXhL9NUxvoYRTGX2Avb5'\n",
    "\n",
    "    hashtags_dict = {}\n",
    "\n",
    "    l = StdOutListener()\n",
    "    auth = OAuthHandler(consumer_key, consumer_secret)\n",
    "    auth.set_access_token(access_token, access_token_secret)\n",
    "    api = tweepy.API(auth)\n",
    "    pakistan_WOE_ID = 2211096\n",
    " \n",
    "    brazil_trends = api.trends_place(pakistan_WOE_ID)\n",
    " \n",
    "    trends = json.loads(json.dumps(brazil_trends, indent=1))\n",
    " \n",
    "    for trend in trends[0][\"trends\"]:\n",
    "        print (trend[\"name\"])\n",
    "\n",
    "#     tweets = api.user_timeline(screen_name='FarhanAliRaza4', count=200)\n",
    "\n",
    "#     for tweet in tweets:\n",
    "#         hashtags = tweet.entities.get('hashtags')\n",
    "#         for hashtag in hashtags:\n",
    "#             if hashtag['text'] in hashtags_dict.keys():\n",
    "#                 hashtags_dict[hashtag['text']] += 1\n",
    "#             else:\n",
    "#                 hashtags_dict[hashtag['text']] = 1\n",
    "\n",
    "#     print(sorted(hashtags_dict, key=hashtags_dict.get, reverse=True)[:2])"
   ]
  },
  {
   "cell_type": "code",
   "execution_count": null,
   "metadata": {},
   "outputs": [],
   "source": []
  }
 ],
 "metadata": {
  "kernelspec": {
   "display_name": "Python 3",
   "language": "python",
   "name": "python3"
  },
  "language_info": {
   "codemirror_mode": {
    "name": "ipython",
    "version": 3
   },
   "file_extension": ".py",
   "mimetype": "text/x-python",
   "name": "python",
   "nbconvert_exporter": "python",
   "pygments_lexer": "ipython3",
   "version": "3.8.0"
  }
 },
 "nbformat": 4,
 "nbformat_minor": 4
}
