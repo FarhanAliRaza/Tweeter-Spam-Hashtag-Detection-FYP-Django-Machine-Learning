{
 "cells": [
  {
   "cell_type": "code",
   "execution_count": null,
   "metadata": {},
   "outputs": [],
   "source": []
  },
  {
   "cell_type": "code",
   "execution_count": 3,
   "metadata": {},
   "outputs": [],
   "source": [
    "import tweepy\n",
    "from tweepy import OAuthHandler, StreamListener\n",
    "import json\n",
    "import pandas as pd\n",
    "import numpy as np\n",
    "import networkx as nx\n",
    "from scipy import stats\n",
    "import matplotlib.pyplot as plt\n",
    "import io\n",
    "import csv\n"
   ]
  },
  {
   "cell_type": "code",
   "execution_count": 5,
   "metadata": {},
   "outputs": [],
   "source": [
    "tweets_final = pd.DataFrame(columns = [\"created_at\", \"id\", \"in_reply_to_screen_name\", \"in_reply_to_status_id\", \"in_reply_to_user_id\",\n",
    "                                      \"retweeted_id\", \"retweeted_screen_name\", \"user_mentions_screen_name\", \"user_mentions_id\", \n",
    "                                       \"text\", \"user_id\", \"screen_name\", \"followers_count\"])"
   ]
  },
  {
   "cell_type": "code",
   "execution_count": 6,
   "metadata": {
    "scrolled": true
   },
   "outputs": [
    {
     "ename": "TypeError",
     "evalue": "string indices must be integers",
     "output_type": "error",
     "traceback": [
      "\u001b[1;31m---------------------------------------------------------------------------\u001b[0m",
      "\u001b[1;31mTypeError\u001b[0m                                 Traceback (most recent call last)",
      "\u001b[1;32m<ipython-input-6-a6e0364cfc1e>\u001b[0m in \u001b[0;36m<module>\u001b[1;34m\u001b[0m\n\u001b[0;32m     24\u001b[0m \u001b[1;33m\u001b[0m\u001b[0m\n\u001b[0;32m     25\u001b[0m     {\n\u001b[1;32m---> 26\u001b[1;33m     \u001b[1;34m\"created_at\"\u001b[0m\u001b[1;33m:\u001b[0m \u001b[0mstr\u001b[0m\u001b[1;33m(\u001b[0m\u001b[0mx\u001b[0m\u001b[1;33m[\u001b[0m\u001b[1;34m\"created_at\"\u001b[0m\u001b[1;33m]\u001b[0m\u001b[1;33m)\u001b[0m\u001b[1;33m,\u001b[0m\u001b[1;33m\u001b[0m\u001b[1;33m\u001b[0m\u001b[0m\n\u001b[0m\u001b[0;32m     27\u001b[0m     \u001b[1;34m\"id\"\u001b[0m \u001b[1;33m:\u001b[0m \u001b[0mx\u001b[0m\u001b[1;33m[\u001b[0m\u001b[1;34m\"id\"\u001b[0m\u001b[1;33m]\u001b[0m\u001b[1;33m,\u001b[0m\u001b[1;33m\u001b[0m\u001b[1;33m\u001b[0m\u001b[0m\n\u001b[0;32m     28\u001b[0m     \u001b[1;34m\"in_reply_to_screen_name\"\u001b[0m\u001b[1;33m:\u001b[0m \u001b[0mx\u001b[0m\u001b[1;33m[\u001b[0m\u001b[1;34m\"in_reply_to_screen_name\"\u001b[0m\u001b[1;33m]\u001b[0m\u001b[1;33m,\u001b[0m\u001b[1;33m\u001b[0m\u001b[1;33m\u001b[0m\u001b[0m\n",
      "\u001b[1;31mTypeError\u001b[0m: string indices must be integers"
     ]
    }
   ],
   "source": [
    "MAX_TWEETS = 20\n",
    "consumer_key = 'NFbD1D02Zcpiycf3R4ERNHVZT'\n",
    "consumer_secret = 'gudVy9WtPFg5zM1vKD2gHMHrWCU6iZqVpRnRqDRYBdtFbSUYbQ'\n",
    "access_token = '964918233391300609-0cnIOmL24ffvyQVd2M3IYNj01L6fUlp'\n",
    "access_token_secret = '7IGEGg6c1lE14KIYcAIkomCSECXhL9NUxvoYRTGX2Avb5'\n",
    "\n",
    "auth = OAuthHandler(consumer_key, consumer_secret)\n",
    "auth.set_access_token(access_token, access_token_secret)\n",
    "\n",
    "# Twitter Access\n",
    "\n",
    "api = tweepy.API(auth, wait_on_rate_limit=True)\n",
    "\n",
    "q = '#KashmirBleeds'\n",
    "\n",
    "for tweet in tweepy.Cursor(api.search, q='#KashmirBleeds', rpp =100).items(2):\n",
    "    x = json.dumps(tweet._json)\n",
    "    def get_retweet_id():\n",
    "        try:\n",
    "            a = x[\"retweeted_status\"][\"user\"][\"id_str\"]\n",
    "            return a\n",
    "        except:\n",
    "            return np.nan\n",
    "    \n",
    "    {\n",
    "    \"id\" : x[\"id\"],\n",
    "    \"in_reply_to_screen_name\": x[\"in_reply_to_screen_name\"],\n",
    "    \"in_reply_to_status_id\" : x[\"in_reply_to_status_id\"],\n",
    "    \"in_reply_to_user_id\" : x[\"in_reply_to_user_id\"],\n",
    "    \"retweeted_id\": get_retweet_id(),\n",
    "    \"retweeted_screen_name\": x[\"retweeted_status\"][\"user\"][\"screen_name\"],\n",
    "    \"user_mentions_screen_name\": x[\"entities\"][\"user_mentions\"][0][\"screen_name\"],\n",
    "    \"user_mentions_id\": x[\"entities\"][\"user_mentions\"][0][\"id_str\"],\n",
    "    \"text\" : x[\"text\"],\n",
    "    \"user_id\": x[\"user\"][\"id\"],\n",
    "    \"screen_name\": x[\"user\"][\"screen_name\"],\n",
    "    \"followers_count\": x[\"user\"][\"followers_count\"],\n",
    "    }"
   ]
  },
  {
   "cell_type": "code",
   "execution_count": 152,
   "metadata": {
    "scrolled": true
   },
   "outputs": [
    {
     "name": "stdout",
     "output_type": "stream",
     "text": [
      "{\"created_at\": \"Sat Jul 04 13:12:55 +0000 2020\", \"id\": 1279402814482141184, \"id_str\": \"1279402814482141184\", \"text\": \"RT @AfzalHu75465147: Kashmiris are being bullyed by the #IndianArmy just brcause they are simply asking for basic human rights restoration.\\u2026\", \"truncated\": false, \"entities\": {\"hashtags\": [{\"text\": \"IndianArmy\", \"indices\": [56, 67]}], \"symbols\": [], \"user_mentions\": [{\"screen_name\": \"AfzalHu75465147\", \"name\": \"Afzal Hussain\", \"id\": 1212272511166996480, \"id_str\": \"1212272511166996480\", \"indices\": [3, 19]}], \"urls\": []}, \"metadata\": {\"iso_language_code\": \"en\", \"result_type\": \"recent\"}, \"source\": \"<a href=\\\"http://twitter.com/download/android\\\" rel=\\\"nofollow\\\">Twitter for Android</a>\", \"in_reply_to_status_id\": null, \"in_reply_to_status_id_str\": null, \"in_reply_to_user_id\": null, \"in_reply_to_user_id_str\": null, \"in_reply_to_screen_name\": null, \"user\": {\"id\": 1257562334467407873, \"id_str\": \"1257562334467407873\", \"name\": \"Ibne_Adam\", \"screen_name\": \"ST_ISP\", \"location\": \"Pakistan\", \"description\": \"\\u200f\\u200f\\u200fNOTHING,\\u06a9\\u0686\\u06be \\u0631\\u0627\\u0632 \\u0628\\u06be\\u06cc \\u0631\\u06a9\\u06be\\u0646\\u0627 \\u0686\\u0627\\u0626\\u06cc\\u06d2\\n\\u200e\\u200e#Armylover\\n \\u0634\\u062f\\u062a \\u067e\\u0633\\u0646\\u062f \\u067e\\u0679\\u0648\\u0627\\u0631\\u06cc \\u0627\\u0648\\u0631 \\u0641\\u0627\\u0644\\u0648\\u0628\\u06cc\\u06a9 \\u0644\\u06d2\\u06a9\\u0631,\\u0627\\u0646\\u0641\\u0627\\u0644\\u0648 \\u06a9\\u0631\\u0646\\u06d2\\u0648\\u0627\\u0644\\u06cc \\u06be\\u0633\\u062a\\u06cc\\u0627\\u06ba \\u0630\\u0631\\u0627 \\u062f\\u0648\\u0631 \\u06c1\\u06cc \\u0631\\u06c1\\u06cc\\u06ba\", \"url\": null, \"entities\": {\"description\": {\"urls\": []}}, \"protected\": false, \"followers_count\": 154, \"friends_count\": 208, \"listed_count\": 0, \"created_at\": \"Tue May 05 06:47:17 +0000 2020\", \"favourites_count\": 508, \"utc_offset\": null, \"time_zone\": null, \"geo_enabled\": false, \"verified\": false, \"statuses_count\": 1294, \"lang\": null, \"contributors_enabled\": false, \"is_translator\": false, \"is_translation_enabled\": false, \"profile_background_color\": \"F5F8FA\", \"profile_background_image_url\": null, \"profile_background_image_url_https\": null, \"profile_background_tile\": false, \"profile_image_url\": \"http://pbs.twimg.com/profile_images/1262644304801148929/oGXas2wD_normal.jpg\", \"profile_image_url_https\": \"https://pbs.twimg.com/profile_images/1262644304801148929/oGXas2wD_normal.jpg\", \"profile_banner_url\": \"https://pbs.twimg.com/profile_banners/1257562334467407873/1588662105\", \"profile_link_color\": \"1DA1F2\", \"profile_sidebar_border_color\": \"C0DEED\", \"profile_sidebar_fill_color\": \"DDEEF6\", \"profile_text_color\": \"333333\", \"profile_use_background_image\": true, \"has_extended_profile\": false, \"default_profile\": true, \"default_profile_image\": false, \"following\": false, \"follow_request_sent\": false, \"notifications\": false, \"translator_type\": \"none\"}, \"geo\": null, \"coordinates\": null, \"place\": null, \"contributors\": null, \"retweeted_status\": {\"created_at\": \"Sat Jul 04 13:08:02 +0000 2020\", \"id\": 1279401584527437827, \"id_str\": \"1279401584527437827\", \"text\": \"Kashmiris are being bullyed by the #IndianArmy just brcause they are simply asking for basic human rights restorati\\u2026 https://t.co/2fGWOROZB0\", \"truncated\": true, \"entities\": {\"hashtags\": [{\"text\": \"IndianArmy\", \"indices\": [35, 46]}], \"symbols\": [], \"user_mentions\": [], \"urls\": [{\"url\": \"https://t.co/2fGWOROZB0\", \"expanded_url\": \"https://twitter.com/i/web/status/1279401584527437827\", \"display_url\": \"twitter.com/i/web/status/1\\u2026\", \"indices\": [117, 140]}]}, \"metadata\": {\"iso_language_code\": \"en\", \"result_type\": \"recent\"}, \"source\": \"<a href=\\\"http://twitter.com/download/android\\\" rel=\\\"nofollow\\\">Twitter for Android</a>\", \"in_reply_to_status_id\": null, \"in_reply_to_status_id_str\": null, \"in_reply_to_user_id\": null, \"in_reply_to_user_id_str\": null, \"in_reply_to_screen_name\": null, \"user\": {\"id\": 1212272511166996480, \"id_str\": \"1212272511166996480\", \"name\": \"Afzal Hussain\", \"screen_name\": \"AfzalHu75465147\", \"location\": \"azad kashmir, Pakistan\", \"description\": \"afzaal\", \"url\": null, \"entities\": {\"description\": {\"urls\": []}}, \"protected\": false, \"followers_count\": 20, \"friends_count\": 169, \"listed_count\": 0, \"created_at\": \"Wed Jan 01 07:21:27 +0000 2020\", \"favourites_count\": 53, \"utc_offset\": null, \"time_zone\": null, \"geo_enabled\": false, \"verified\": false, \"statuses_count\": 48, \"lang\": null, \"contributors_enabled\": false, \"is_translator\": false, \"is_translation_enabled\": false, \"profile_background_color\": \"F5F8FA\", \"profile_background_image_url\": null, \"profile_background_image_url_https\": null, \"profile_background_tile\": false, \"profile_image_url\": \"http://pbs.twimg.com/profile_images/1277263631546286080/QX_6IqXN_normal.jpg\", \"profile_image_url_https\": \"https://pbs.twimg.com/profile_images/1277263631546286080/QX_6IqXN_normal.jpg\", \"profile_link_color\": \"1DA1F2\", \"profile_sidebar_border_color\": \"C0DEED\", \"profile_sidebar_fill_color\": \"DDEEF6\", \"profile_text_color\": \"333333\", \"profile_use_background_image\": true, \"has_extended_profile\": false, \"default_profile\": true, \"default_profile_image\": false, \"following\": false, \"follow_request_sent\": false, \"notifications\": false, \"translator_type\": \"none\"}, \"geo\": null, \"coordinates\": null, \"place\": null, \"contributors\": null, \"is_quote_status\": false, \"retweet_count\": 2, \"favorite_count\": 0, \"favorited\": false, \"retweeted\": false, \"lang\": \"en\"}, \"is_quote_status\": false, \"retweet_count\": 2, \"favorite_count\": 0, \"favorited\": false, \"retweeted\": false, \"lang\": \"en\"}{\"created_at\": \"Sat Jul 04 13:12:09 +0000 2020\", \"id\": 1279402619597963264, \"id_str\": \"1279402619597963264\", \"text\": \"RT @ovvwais: #IndianArmy #KashmirBleeds\\n#Kashmir \\nNo caption... https://t.co/japDwYvoAU\", \"truncated\": false, \"entities\": {\"hashtags\": [{\"text\": \"IndianArmy\", \"indices\": [13, 24]}, {\"text\": \"KashmirBleeds\", \"indices\": [25, 39]}, {\"text\": \"Kashmir\", \"indices\": [40, 48]}], \"symbols\": [], \"user_mentions\": [{\"screen_name\": \"ovvwais\", \"name\": \"Sheikh Owais Qamar \\ud83c\\uddf5\\ud83c\\uddf0\\u2069\", \"id\": 792978096454529024, \"id_str\": \"792978096454529024\", \"indices\": [3, 11]}], \"urls\": [], \"media\": [{\"id\": 1278421315540705286, \"id_str\": \"1278421315540705286\", \"indices\": [64, 87], \"media_url\": \"http://pbs.twimg.com/media/Eb3dacIXYAYwwPs.jpg\", \"media_url_https\": \"https://pbs.twimg.com/media/Eb3dacIXYAYwwPs.jpg\", \"url\": \"https://t.co/japDwYvoAU\", \"display_url\": \"pic.twitter.com/japDwYvoAU\", \"expanded_url\": \"https://twitter.com/ovvwais/status/1278421322616487936/photo/1\", \"type\": \"photo\", \"sizes\": {\"thumb\": {\"w\": 150, \"h\": 150, \"resize\": \"crop\"}, \"large\": {\"w\": 720, \"h\": 709, \"resize\": \"fit\"}, \"medium\": {\"w\": 720, \"h\": 709, \"resize\": \"fit\"}, \"small\": {\"w\": 680, \"h\": 670, \"resize\": \"fit\"}}, \"source_status_id\": 1278421322616487936, \"source_status_id_str\": \"1278421322616487936\", \"source_user_id\": 792978096454529024, \"source_user_id_str\": \"792978096454529024\"}]}, \"extended_entities\": {\"media\": [{\"id\": 1278421315540705286, \"id_str\": \"1278421315540705286\", \"indices\": [64, 87], \"media_url\": \"http://pbs.twimg.com/media/Eb3dacIXYAYwwPs.jpg\", \"media_url_https\": \"https://pbs.twimg.com/media/Eb3dacIXYAYwwPs.jpg\", \"url\": \"https://t.co/japDwYvoAU\", \"display_url\": \"pic.twitter.com/japDwYvoAU\", \"expanded_url\": \"https://twitter.com/ovvwais/status/1278421322616487936/photo/1\", \"type\": \"photo\", \"sizes\": {\"thumb\": {\"w\": 150, \"h\": 150, \"resize\": \"crop\"}, \"large\": {\"w\": 720, \"h\": 709, \"resize\": \"fit\"}, \"medium\": {\"w\": 720, \"h\": 709, \"resize\": \"fit\"}, \"small\": {\"w\": 680, \"h\": 670, \"resize\": \"fit\"}}, \"source_status_id\": 1278421322616487936, \"source_status_id_str\": \"1278421322616487936\", \"source_user_id\": 792978096454529024, \"source_user_id_str\": \"792978096454529024\"}]}, \"metadata\": {\"iso_language_code\": \"en\", \"result_type\": \"recent\"}, \"source\": \"<a href=\\\"http://twitter.com/download/android\\\" rel=\\\"nofollow\\\">Twitter for Android</a>\", \"in_reply_to_status_id\": null, \"in_reply_to_status_id_str\": null, \"in_reply_to_user_id\": null, \"in_reply_to_user_id_str\": null, \"in_reply_to_screen_name\": null, \"user\": {\"id\": 1245380219957059586, \"id_str\": \"1245380219957059586\", \"name\": \"usama Mukhtar\", \"screen_name\": \"isp__army\", \"location\": \"\", \"description\": \"head of supervisiors @teamISPofficial\", \"url\": null, \"entities\": {\"description\": {\"urls\": []}}, \"protected\": false, \"followers_count\": 237, \"friends_count\": 209, \"listed_count\": 0, \"created_at\": \"Wed Apr 01 15:59:36 +0000 2020\", \"favourites_count\": 871, \"utc_offset\": null, \"time_zone\": null, \"geo_enabled\": false, \"verified\": false, \"statuses_count\": 4449, \"lang\": null, \"contributors_enabled\": false, \"is_translator\": false, \"is_translation_enabled\": false, \"profile_background_color\": \"F5F8FA\", \"profile_background_image_url\": null, \"profile_background_image_url_https\": null, \"profile_background_tile\": false, \"profile_image_url\": \"http://pbs.twimg.com/profile_images/1272478119044231169/6ssWgs3v_normal.jpg\", \"profile_image_url_https\": \"https://pbs.twimg.com/profile_images/1272478119044231169/6ssWgs3v_normal.jpg\", \"profile_banner_url\": \"https://pbs.twimg.com/profile_banners/1245380219957059586/1592656160\", \"profile_link_color\": \"1DA1F2\", \"profile_sidebar_border_color\": \"C0DEED\", \"profile_sidebar_fill_color\": \"DDEEF6\", \"profile_text_color\": \"333333\", \"profile_use_background_image\": true, \"has_extended_profile\": true, \"default_profile\": true, \"default_profile_image\": false, \"following\": false, \"follow_request_sent\": false, \"notifications\": false, \"translator_type\": \"none\"}, \"geo\": null, \"coordinates\": null, \"place\": null, \"contributors\": null, \"retweeted_status\": {\"created_at\": \"Wed Jul 01 20:12:49 +0000 2020\", \"id\": 1278421322616487936, \"id_str\": \"1278421322616487936\", \"text\": \"#IndianArmy #KashmirBleeds\\n#Kashmir \\nNo caption... https://t.co/japDwYvoAU\", \"truncated\": false, \"entities\": {\"hashtags\": [{\"text\": \"IndianArmy\", \"indices\": [0, 11]}, {\"text\": \"KashmirBleeds\", \"indices\": [12, 26]}, {\"text\": \"Kashmir\", \"indices\": [27, 35]}], \"symbols\": [], \"user_mentions\": [], \"urls\": [], \"media\": [{\"id\": 1278421315540705286, \"id_str\": \"1278421315540705286\", \"indices\": [51, 74], \"media_url\": \"http://pbs.twimg.com/media/Eb3dacIXYAYwwPs.jpg\", \"media_url_https\": \"https://pbs.twimg.com/media/Eb3dacIXYAYwwPs.jpg\", \"url\": \"https://t.co/japDwYvoAU\", \"display_url\": \"pic.twitter.com/japDwYvoAU\", \"expanded_url\": \"https://twitter.com/ovvwais/status/1278421322616487936/photo/1\", \"type\": \"photo\", \"sizes\": {\"thumb\": {\"w\": 150, \"h\": 150, \"resize\": \"crop\"}, \"large\": {\"w\": 720, \"h\": 709, \"resize\": \"fit\"}, \"medium\": {\"w\": 720, \"h\": 709, \"resize\": \"fit\"}, \"small\": {\"w\": 680, \"h\": 670, \"resize\": \"fit\"}}}]}, \"extended_entities\": {\"media\": [{\"id\": 1278421315540705286, \"id_str\": \"1278421315540705286\", \"indices\": [51, 74], \"media_url\": \"http://pbs.twimg.com/media/Eb3dacIXYAYwwPs.jpg\", \"media_url_https\": \"https://pbs.twimg.com/media/Eb3dacIXYAYwwPs.jpg\", \"url\": \"https://t.co/japDwYvoAU\", \"display_url\": \"pic.twitter.com/japDwYvoAU\", \"expanded_url\": \"https://twitter.com/ovvwais/status/1278421322616487936/photo/1\", \"type\": \"photo\", \"sizes\": {\"thumb\": {\"w\": 150, \"h\": 150, \"resize\": \"crop\"}, \"large\": {\"w\": 720, \"h\": 709, \"resize\": \"fit\"}, \"medium\": {\"w\": 720, \"h\": 709, \"resize\": \"fit\"}, \"small\": {\"w\": 680, \"h\": 670, \"resize\": \"fit\"}}}]}, \"metadata\": {\"iso_language_code\": \"en\", \"result_type\": \"recent\"}, \"source\": \"<a href=\\\"http://twitter.com/download/android\\\" rel=\\\"nofollow\\\">Twitter for Android</a>\", \"in_reply_to_status_id\": null, \"in_reply_to_status_id_str\": null, \"in_reply_to_user_id\": null, \"in_reply_to_user_id_str\": null, \"in_reply_to_screen_name\": null, \"user\": {\"id\": 792978096454529024, \"id_str\": \"792978096454529024\", \"name\": \"Sheikh Owais Qamar \\ud83c\\uddf5\\ud83c\\uddf0\\u2069\", \"screen_name\": \"ovvwais\", \"location\": \"Karachi, Pakistan\", \"description\": \"#\\u060c\\u2066\\ud83c\\uddf5\\ud83c\\uddf0\\u2069+\\ud83d\\udd4b \\u2764\\ufe0f Trendy\\ud83c\\uddf5\\ud83c\\uddf0\\u2069Adventurist\\ud83c\\udf0a\\ud83c\\udfc2\\ud83c\\udfc7#tourist\\u2764\\ufe0f love_turkey\\ud83c\\uddf9\\ud83c\\uddf7 #FreeKashmir #freePlestine #IJT\\nmy insta\\ud83d\\udc49\\nhttps://t.co/GcUJ1irXKN\", \"url\": null, \"entities\": {\"description\": {\"urls\": [{\"url\": \"https://t.co/GcUJ1irXKN\", \"expanded_url\": \"https://www.instagram.com/ooowaisi?r=nametag\", \"display_url\": \"instagram.com/ooowaisi?r=nam\\u2026\", \"indices\": [102, 125]}]}}, \"protected\": false, \"followers_count\": 1205, \"friends_count\": 1636, \"listed_count\": 0, \"created_at\": \"Mon Oct 31 06:34:45 +0000 2016\", \"favourites_count\": 705, \"utc_offset\": null, \"time_zone\": null, \"geo_enabled\": false, \"verified\": false, \"statuses_count\": 938, \"lang\": null, \"contributors_enabled\": false, \"is_translator\": false, \"is_translation_enabled\": false, \"profile_background_color\": \"F5F8FA\", \"profile_background_image_url\": null, \"profile_background_image_url_https\": null, \"profile_background_tile\": false, \"profile_image_url\": \"http://pbs.twimg.com/profile_images/1275155170943434755/I1b4X1JF_normal.jpg\", \"profile_image_url_https\": \"https://pbs.twimg.com/profile_images/1275155170943434755/I1b4X1JF_normal.jpg\", \"profile_banner_url\": \"https://pbs.twimg.com/profile_banners/792978096454529024/1592855620\", \"profile_link_color\": \"1DA1F2\", \"profile_sidebar_border_color\": \"C0DEED\", \"profile_sidebar_fill_color\": \"DDEEF6\", \"profile_text_color\": \"333333\", \"profile_use_background_image\": true, \"has_extended_profile\": true, \"default_profile\": true, \"default_profile_image\": false, \"following\": false, \"follow_request_sent\": false, \"notifications\": false, \"translator_type\": \"none\"}, \"geo\": null, \"coordinates\": null, \"place\": null, \"contributors\": null, \"is_quote_status\": false, \"retweet_count\": 5, \"favorite_count\": 4, \"favorited\": false, \"retweeted\": false, \"possibly_sensitive\": false, \"lang\": \"en\"}, \"is_quote_status\": false, \"retweet_count\": 5, \"favorite_count\": 0, \"favorited\": false, \"retweeted\": false, \"possibly_sensitive\": false, \"lang\": \"en\"}\n"
     ]
    },
    {
     "ename": "IndexError",
     "evalue": "list index out of range",
     "output_type": "error",
     "traceback": [
      "\u001b[1;31m---------------------------------------------------------------------------\u001b[0m",
      "\u001b[1;31mIndexError\u001b[0m                                Traceback (most recent call last)",
      "\u001b[1;32m<ipython-input-152-cd9f53a0eba0>\u001b[0m in \u001b[0;36m<module>\u001b[1;34m\u001b[0m\n\u001b[0;32m      3\u001b[0m     \u001b[0mtweets\u001b[0m\u001b[1;33m.\u001b[0m\u001b[0mappend\u001b[0m\u001b[1;33m(\u001b[0m\u001b[0mline\u001b[0m\u001b[1;33m)\u001b[0m\u001b[1;33m\u001b[0m\u001b[1;33m\u001b[0m\u001b[0m\n\u001b[0;32m      4\u001b[0m \u001b[0mprint\u001b[0m\u001b[1;33m(\u001b[0m\u001b[0mtweets\u001b[0m\u001b[1;33m[\u001b[0m\u001b[1;36m0\u001b[0m\u001b[1;33m]\u001b[0m\u001b[1;33m)\u001b[0m\u001b[1;33m\u001b[0m\u001b[1;33m\u001b[0m\u001b[0m\n\u001b[1;32m----> 5\u001b[1;33m \u001b[0mprint\u001b[0m\u001b[1;33m(\u001b[0m\u001b[0mtweets\u001b[0m\u001b[1;33m[\u001b[0m\u001b[1;36m1\u001b[0m\u001b[1;33m]\u001b[0m\u001b[1;33m)\u001b[0m\u001b[1;33m\u001b[0m\u001b[1;33m\u001b[0m\u001b[0m\n\u001b[0m",
      "\u001b[1;31mIndexError\u001b[0m: list index out of range"
     ]
    }
   ],
   "source": []
  },
  {
   "cell_type": "code",
   "execution_count": null,
   "metadata": {},
   "outputs": [],
   "source": []
  },
  {
   "cell_type": "code",
   "execution_count": null,
   "metadata": {},
   "outputs": [],
   "source": []
  },
  {
   "cell_type": "code",
   "execution_count": 108,
   "metadata": {
    "scrolled": true
   },
   "outputs": [],
   "source": []
  },
  {
   "cell_type": "code",
   "execution_count": 109,
   "metadata": {},
   "outputs": [
    {
     "data": {
      "text/plain": [
       "Index(['created_at', 'id', 'id_str', 'text', 'truncated', 'entities',\n",
       "       'metadata', 'source', 'in_reply_to_status_id',\n",
       "       'in_reply_to_status_id_str', 'in_reply_to_user_id',\n",
       "       'in_reply_to_user_id_str', 'in_reply_to_screen_name', 'user', 'geo',\n",
       "       'coordinates', 'place', 'contributors', 'retweeted_status',\n",
       "       'is_quote_status', 'retweet_count', 'favorite_count', 'favorited',\n",
       "       'retweeted', 'lang'],\n",
       "      dtype='object')"
      ]
     },
     "execution_count": 109,
     "metadata": {},
     "output_type": "execute_result"
    }
   ],
   "source": [
    "tweets_df.columns\n"
   ]
  },
  {
   "cell_type": "code",
   "execution_count": 110,
   "metadata": {},
   "outputs": [],
   "source": [
    "tweets_final = pd.DataFrame(columns = [\"created_at\", \"id\", \"in_reply_to_screen_name\", \"in_reply_to_status_id\", \"in_reply_to_user_id\",\n",
    "                                      \"retweeted_id\", \"retweeted_screen_name\", \"user_mentions_screen_name\", \"user_mentions_id\", \n",
    "                                       \"text\", \"user_id\", \"screen_name\", \"followers_count\"])"
   ]
  },
  {
   "cell_type": "code",
   "execution_count": 111,
   "metadata": {},
   "outputs": [],
   "source": [
    "# Columns that are going to be the same\n",
    "equal_columns = [\"created_at\", \"id\", \"text\"]\n",
    "tweets_final[equal_columns] = tweets_df[equal_columns]"
   ]
  },
  {
   "cell_type": "code",
   "execution_count": 112,
   "metadata": {},
   "outputs": [],
   "source": [
    "def get_basics(tweets_final):\n",
    "    tweets_final[\"screen_name\"] = tweets_df[\"user\"].apply(lambda x: x[\"screen_name\"])\n",
    "    tweets_final[\"user_id\"] = tweets_df[\"user\"].apply(lambda x: x[\"id\"])\n",
    "    tweets_final[\"followers_count\"] = tweets_df[\"user\"].apply(lambda x: x[\"followers_count\"])\n",
    "    return tweets_final"
   ]
  },
  {
   "cell_type": "code",
   "execution_count": 113,
   "metadata": {},
   "outputs": [],
   "source": [
    "def get_usermentions(tweets_final):\n",
    "    # Inside the tag 'entities' will find 'user mentions' and will get 'screen name' and 'id'\n",
    "    tweets_final[\"user_mentions_screen_name\"] = tweets_df[\"entities\"].apply(lambda x: x[\"user_mentions\"][0][\"screen_name\"] if x[\"user_mentions\"] else np.nan)\n",
    "    tweets_final[\"user_mentions_id\"] = tweets_df[\"entities\"].apply(lambda x: x[\"user_mentions\"][0][\"id_str\"] if x[\"user_mentions\"] else np.nan)\n",
    "    return tweets_final"
   ]
  },
  {
   "cell_type": "code",
   "execution_count": 114,
   "metadata": {},
   "outputs": [],
   "source": [
    "def get_retweets(tweets_final):\n",
    "    # Inside the tag 'retweeted_status' will find 'user' and will get 'screen name' and 'id'    \n",
    "    tweets_final[\"retweeted_screen_name\"] = tweets_df[\"retweeted_status\"].apply(lambda x: x[\"user\"][\"screen_name\"] if x is not np.nan else np.nan)\n",
    "    tweets_final[\"retweeted_id\"] = tweets_df[\"retweeted_status\"].apply(lambda x: x[\"user\"][\"id_str\"] if x is not np.nan else np.nan)\n",
    "    return tweets_final"
   ]
  },
  {
   "cell_type": "code",
   "execution_count": 115,
   "metadata": {},
   "outputs": [],
   "source": [
    "def get_in_reply(tweets_final):\n",
    "    # Just copy the 'in_reply' columns to the new dataframe\n",
    "    tweets_final[\"in_reply_to_screen_name\"] = tweets_df[\"in_reply_to_screen_name\"]\n",
    "    tweets_final[\"in_reply_to_status_id\"] = tweets_df[\"in_reply_to_status_id\"]\n",
    "    tweets_final[\"in_reply_to_user_id\"]= tweets_df[\"in_reply_to_user_id\"]\n",
    "    return tweets_final"
   ]
  },
  {
   "cell_type": "code",
   "execution_count": 116,
   "metadata": {},
   "outputs": [],
   "source": [
    "def fill_df(tweets_final):\n",
    "    get_basics(tweets_final)\n",
    "    get_usermentions(tweets_final)\n",
    "    get_retweets(tweets_final)\n",
    "    get_in_reply(tweets_final)\n",
    "    return tweets_final"
   ]
  },
  {
   "cell_type": "code",
   "execution_count": 117,
   "metadata": {},
   "outputs": [],
   "source": [
    "def get_interactions(row):\n",
    "    # From every row of the original dataframe\n",
    "    # First we obtain the 'user_id' and 'screen_name'\n",
    "    user = row[\"user_id\"], row[\"screen_name\"]\n",
    "    # Be careful if there is no user id\n",
    "    if user[0] is None:\n",
    "        return (None, None), []\n",
    "    \n",
    "    # The interactions are going to be a set of tuples\n",
    "    interactions = set()\n",
    "    \n",
    "    # Add all interactions \n",
    "    # First, we add the interactions corresponding to replies adding the id and screen_name\n",
    "    interactions.add((row[\"in_reply_to_user_id\"], row[\"in_reply_to_screen_name\"]))\n",
    "    # After that, we add the interactions with retweets\n",
    "    interactions.add((row[\"retweeted_id\"], row[\"retweeted_screen_name\"]))\n",
    "    # And later, the interactions with user mentions\n",
    "    interactions.add((row[\"user_mentions_id\"], row[\"user_mentions_screen_name\"]))\n",
    "    \n",
    "    # Discard if user id is in interactions\n",
    "    interactions.discard((row[\"user_id\"], row[\"screen_name\"]))\n",
    "    # Discard all not existing values\n",
    "    interactions.discard((None, None))\n",
    "    # Return user and interactions\n",
    "    return user, interactions"
   ]
  },
  {
   "cell_type": "code",
   "execution_count": 118,
   "metadata": {},
   "outputs": [
    {
     "ename": "TypeError",
     "evalue": "'float' object is not subscriptable",
     "output_type": "error",
     "traceback": [
      "\u001b[1;31m---------------------------------------------------------------------------\u001b[0m",
      "\u001b[1;31mTypeError\u001b[0m                                 Traceback (most recent call last)",
      "\u001b[1;32m<ipython-input-118-94694f084dc9>\u001b[0m in \u001b[0;36m<module>\u001b[1;34m\u001b[0m\n\u001b[1;32m----> 1\u001b[1;33m \u001b[0mtweets_final\u001b[0m \u001b[1;33m=\u001b[0m \u001b[0mfill_df\u001b[0m\u001b[1;33m(\u001b[0m\u001b[0mtweets_final\u001b[0m\u001b[1;33m)\u001b[0m\u001b[1;33m\u001b[0m\u001b[1;33m\u001b[0m\u001b[0m\n\u001b[0m",
      "\u001b[1;32m<ipython-input-116-fb5d143723a2>\u001b[0m in \u001b[0;36mfill_df\u001b[1;34m(tweets_final)\u001b[0m\n\u001b[0;32m      1\u001b[0m \u001b[1;32mdef\u001b[0m \u001b[0mfill_df\u001b[0m\u001b[1;33m(\u001b[0m\u001b[0mtweets_final\u001b[0m\u001b[1;33m)\u001b[0m\u001b[1;33m:\u001b[0m\u001b[1;33m\u001b[0m\u001b[1;33m\u001b[0m\u001b[0m\n\u001b[1;32m----> 2\u001b[1;33m     \u001b[0mget_basics\u001b[0m\u001b[1;33m(\u001b[0m\u001b[0mtweets_final\u001b[0m\u001b[1;33m)\u001b[0m\u001b[1;33m\u001b[0m\u001b[1;33m\u001b[0m\u001b[0m\n\u001b[0m\u001b[0;32m      3\u001b[0m     \u001b[0mget_usermentions\u001b[0m\u001b[1;33m(\u001b[0m\u001b[0mtweets_final\u001b[0m\u001b[1;33m)\u001b[0m\u001b[1;33m\u001b[0m\u001b[1;33m\u001b[0m\u001b[0m\n\u001b[0;32m      4\u001b[0m     \u001b[0mget_retweets\u001b[0m\u001b[1;33m(\u001b[0m\u001b[0mtweets_final\u001b[0m\u001b[1;33m)\u001b[0m\u001b[1;33m\u001b[0m\u001b[1;33m\u001b[0m\u001b[0m\n\u001b[0;32m      5\u001b[0m     \u001b[0mget_in_reply\u001b[0m\u001b[1;33m(\u001b[0m\u001b[0mtweets_final\u001b[0m\u001b[1;33m)\u001b[0m\u001b[1;33m\u001b[0m\u001b[1;33m\u001b[0m\u001b[0m\n",
      "\u001b[1;32m<ipython-input-112-4c55bc5cc5cf>\u001b[0m in \u001b[0;36mget_basics\u001b[1;34m(tweets_final)\u001b[0m\n\u001b[0;32m      1\u001b[0m \u001b[1;32mdef\u001b[0m \u001b[0mget_basics\u001b[0m\u001b[1;33m(\u001b[0m\u001b[0mtweets_final\u001b[0m\u001b[1;33m)\u001b[0m\u001b[1;33m:\u001b[0m\u001b[1;33m\u001b[0m\u001b[1;33m\u001b[0m\u001b[0m\n\u001b[1;32m----> 2\u001b[1;33m     \u001b[0mtweets_final\u001b[0m\u001b[1;33m[\u001b[0m\u001b[1;34m\"screen_name\"\u001b[0m\u001b[1;33m]\u001b[0m \u001b[1;33m=\u001b[0m \u001b[0mtweets_df\u001b[0m\u001b[1;33m[\u001b[0m\u001b[1;34m\"user\"\u001b[0m\u001b[1;33m]\u001b[0m\u001b[1;33m.\u001b[0m\u001b[0mapply\u001b[0m\u001b[1;33m(\u001b[0m\u001b[1;32mlambda\u001b[0m \u001b[0mx\u001b[0m\u001b[1;33m:\u001b[0m \u001b[0mx\u001b[0m\u001b[1;33m[\u001b[0m\u001b[1;34m\"screen_name\"\u001b[0m\u001b[1;33m]\u001b[0m\u001b[1;33m)\u001b[0m\u001b[1;33m\u001b[0m\u001b[1;33m\u001b[0m\u001b[0m\n\u001b[0m\u001b[0;32m      3\u001b[0m     \u001b[0mtweets_final\u001b[0m\u001b[1;33m[\u001b[0m\u001b[1;34m\"user_id\"\u001b[0m\u001b[1;33m]\u001b[0m \u001b[1;33m=\u001b[0m \u001b[0mtweets_df\u001b[0m\u001b[1;33m[\u001b[0m\u001b[1;34m\"user\"\u001b[0m\u001b[1;33m]\u001b[0m\u001b[1;33m.\u001b[0m\u001b[0mapply\u001b[0m\u001b[1;33m(\u001b[0m\u001b[1;32mlambda\u001b[0m \u001b[0mx\u001b[0m\u001b[1;33m:\u001b[0m \u001b[0mx\u001b[0m\u001b[1;33m[\u001b[0m\u001b[1;34m\"id\"\u001b[0m\u001b[1;33m]\u001b[0m\u001b[1;33m)\u001b[0m\u001b[1;33m\u001b[0m\u001b[1;33m\u001b[0m\u001b[0m\n\u001b[0;32m      4\u001b[0m     \u001b[0mtweets_final\u001b[0m\u001b[1;33m[\u001b[0m\u001b[1;34m\"followers_count\"\u001b[0m\u001b[1;33m]\u001b[0m \u001b[1;33m=\u001b[0m \u001b[0mtweets_df\u001b[0m\u001b[1;33m[\u001b[0m\u001b[1;34m\"user\"\u001b[0m\u001b[1;33m]\u001b[0m\u001b[1;33m.\u001b[0m\u001b[0mapply\u001b[0m\u001b[1;33m(\u001b[0m\u001b[1;32mlambda\u001b[0m \u001b[0mx\u001b[0m\u001b[1;33m:\u001b[0m \u001b[0mx\u001b[0m\u001b[1;33m[\u001b[0m\u001b[1;34m\"followers_count\"\u001b[0m\u001b[1;33m]\u001b[0m\u001b[1;33m)\u001b[0m\u001b[1;33m\u001b[0m\u001b[1;33m\u001b[0m\u001b[0m\n\u001b[0;32m      5\u001b[0m     \u001b[1;32mreturn\u001b[0m \u001b[0mtweets_final\u001b[0m\u001b[1;33m\u001b[0m\u001b[1;33m\u001b[0m\u001b[0m\n",
      "\u001b[1;32mc:\\users\\farhan ali raza\\.virtualenvs\\py-s8qj2npi\\lib\\site-packages\\pandas\\core\\series.py\u001b[0m in \u001b[0;36mapply\u001b[1;34m(self, func, convert_dtype, args, **kwds)\u001b[0m\n\u001b[0;32m   3846\u001b[0m             \u001b[1;32melse\u001b[0m\u001b[1;33m:\u001b[0m\u001b[1;33m\u001b[0m\u001b[1;33m\u001b[0m\u001b[0m\n\u001b[0;32m   3847\u001b[0m                 \u001b[0mvalues\u001b[0m \u001b[1;33m=\u001b[0m \u001b[0mself\u001b[0m\u001b[1;33m.\u001b[0m\u001b[0mastype\u001b[0m\u001b[1;33m(\u001b[0m\u001b[0mobject\u001b[0m\u001b[1;33m)\u001b[0m\u001b[1;33m.\u001b[0m\u001b[0mvalues\u001b[0m\u001b[1;33m\u001b[0m\u001b[1;33m\u001b[0m\u001b[0m\n\u001b[1;32m-> 3848\u001b[1;33m                 \u001b[0mmapped\u001b[0m \u001b[1;33m=\u001b[0m \u001b[0mlib\u001b[0m\u001b[1;33m.\u001b[0m\u001b[0mmap_infer\u001b[0m\u001b[1;33m(\u001b[0m\u001b[0mvalues\u001b[0m\u001b[1;33m,\u001b[0m \u001b[0mf\u001b[0m\u001b[1;33m,\u001b[0m \u001b[0mconvert\u001b[0m\u001b[1;33m=\u001b[0m\u001b[0mconvert_dtype\u001b[0m\u001b[1;33m)\u001b[0m\u001b[1;33m\u001b[0m\u001b[1;33m\u001b[0m\u001b[0m\n\u001b[0m\u001b[0;32m   3849\u001b[0m \u001b[1;33m\u001b[0m\u001b[0m\n\u001b[0;32m   3850\u001b[0m         \u001b[1;32mif\u001b[0m \u001b[0mlen\u001b[0m\u001b[1;33m(\u001b[0m\u001b[0mmapped\u001b[0m\u001b[1;33m)\u001b[0m \u001b[1;32mand\u001b[0m \u001b[0misinstance\u001b[0m\u001b[1;33m(\u001b[0m\u001b[0mmapped\u001b[0m\u001b[1;33m[\u001b[0m\u001b[1;36m0\u001b[0m\u001b[1;33m]\u001b[0m\u001b[1;33m,\u001b[0m \u001b[0mSeries\u001b[0m\u001b[1;33m)\u001b[0m\u001b[1;33m:\u001b[0m\u001b[1;33m\u001b[0m\u001b[1;33m\u001b[0m\u001b[0m\n",
      "\u001b[1;32mpandas\\_libs\\lib.pyx\u001b[0m in \u001b[0;36mpandas._libs.lib.map_infer\u001b[1;34m()\u001b[0m\n",
      "\u001b[1;32m<ipython-input-112-4c55bc5cc5cf>\u001b[0m in \u001b[0;36m<lambda>\u001b[1;34m(x)\u001b[0m\n\u001b[0;32m      1\u001b[0m \u001b[1;32mdef\u001b[0m \u001b[0mget_basics\u001b[0m\u001b[1;33m(\u001b[0m\u001b[0mtweets_final\u001b[0m\u001b[1;33m)\u001b[0m\u001b[1;33m:\u001b[0m\u001b[1;33m\u001b[0m\u001b[1;33m\u001b[0m\u001b[0m\n\u001b[1;32m----> 2\u001b[1;33m     \u001b[0mtweets_final\u001b[0m\u001b[1;33m[\u001b[0m\u001b[1;34m\"screen_name\"\u001b[0m\u001b[1;33m]\u001b[0m \u001b[1;33m=\u001b[0m \u001b[0mtweets_df\u001b[0m\u001b[1;33m[\u001b[0m\u001b[1;34m\"user\"\u001b[0m\u001b[1;33m]\u001b[0m\u001b[1;33m.\u001b[0m\u001b[0mapply\u001b[0m\u001b[1;33m(\u001b[0m\u001b[1;32mlambda\u001b[0m \u001b[0mx\u001b[0m\u001b[1;33m:\u001b[0m \u001b[0mx\u001b[0m\u001b[1;33m[\u001b[0m\u001b[1;34m\"screen_name\"\u001b[0m\u001b[1;33m]\u001b[0m\u001b[1;33m)\u001b[0m\u001b[1;33m\u001b[0m\u001b[1;33m\u001b[0m\u001b[0m\n\u001b[0m\u001b[0;32m      3\u001b[0m     \u001b[0mtweets_final\u001b[0m\u001b[1;33m[\u001b[0m\u001b[1;34m\"user_id\"\u001b[0m\u001b[1;33m]\u001b[0m \u001b[1;33m=\u001b[0m \u001b[0mtweets_df\u001b[0m\u001b[1;33m[\u001b[0m\u001b[1;34m\"user\"\u001b[0m\u001b[1;33m]\u001b[0m\u001b[1;33m.\u001b[0m\u001b[0mapply\u001b[0m\u001b[1;33m(\u001b[0m\u001b[1;32mlambda\u001b[0m \u001b[0mx\u001b[0m\u001b[1;33m:\u001b[0m \u001b[0mx\u001b[0m\u001b[1;33m[\u001b[0m\u001b[1;34m\"id\"\u001b[0m\u001b[1;33m]\u001b[0m\u001b[1;33m)\u001b[0m\u001b[1;33m\u001b[0m\u001b[1;33m\u001b[0m\u001b[0m\n\u001b[0;32m      4\u001b[0m     \u001b[0mtweets_final\u001b[0m\u001b[1;33m[\u001b[0m\u001b[1;34m\"followers_count\"\u001b[0m\u001b[1;33m]\u001b[0m \u001b[1;33m=\u001b[0m \u001b[0mtweets_df\u001b[0m\u001b[1;33m[\u001b[0m\u001b[1;34m\"user\"\u001b[0m\u001b[1;33m]\u001b[0m\u001b[1;33m.\u001b[0m\u001b[0mapply\u001b[0m\u001b[1;33m(\u001b[0m\u001b[1;32mlambda\u001b[0m \u001b[0mx\u001b[0m\u001b[1;33m:\u001b[0m \u001b[0mx\u001b[0m\u001b[1;33m[\u001b[0m\u001b[1;34m\"followers_count\"\u001b[0m\u001b[1;33m]\u001b[0m\u001b[1;33m)\u001b[0m\u001b[1;33m\u001b[0m\u001b[1;33m\u001b[0m\u001b[0m\n\u001b[0;32m      5\u001b[0m     \u001b[1;32mreturn\u001b[0m \u001b[0mtweets_final\u001b[0m\u001b[1;33m\u001b[0m\u001b[1;33m\u001b[0m\u001b[0m\n",
      "\u001b[1;31mTypeError\u001b[0m: 'float' object is not subscriptable"
     ]
    }
   ],
   "source": [
    "tweets_final = fill_df(tweets_final)"
   ]
  },
  {
   "cell_type": "code",
   "execution_count": 119,
   "metadata": {},
   "outputs": [],
   "source": [
    "tweets_final = tweets_final.where((pd.notnull(tweets_final)), None)"
   ]
  },
  {
   "cell_type": "code",
   "execution_count": 120,
   "metadata": {},
   "outputs": [
    {
     "data": {
      "text/html": [
       "<div>\n",
       "<style scoped>\n",
       "    .dataframe tbody tr th:only-of-type {\n",
       "        vertical-align: middle;\n",
       "    }\n",
       "\n",
       "    .dataframe tbody tr th {\n",
       "        vertical-align: top;\n",
       "    }\n",
       "\n",
       "    .dataframe thead th {\n",
       "        text-align: right;\n",
       "    }\n",
       "</style>\n",
       "<table border=\"1\" class=\"dataframe\">\n",
       "  <thead>\n",
       "    <tr style=\"text-align: right;\">\n",
       "      <th></th>\n",
       "      <th>created_at</th>\n",
       "      <th>id</th>\n",
       "      <th>in_reply_to_screen_name</th>\n",
       "      <th>in_reply_to_status_id</th>\n",
       "      <th>in_reply_to_user_id</th>\n",
       "      <th>retweeted_id</th>\n",
       "      <th>retweeted_screen_name</th>\n",
       "      <th>user_mentions_screen_name</th>\n",
       "      <th>user_mentions_id</th>\n",
       "      <th>text</th>\n",
       "      <th>user_id</th>\n",
       "      <th>screen_name</th>\n",
       "      <th>followers_count</th>\n",
       "    </tr>\n",
       "  </thead>\n",
       "  <tbody>\n",
       "    <tr>\n",
       "      <th>hashtags</th>\n",
       "      <td>2020-07-04 12:14:02+00:00</td>\n",
       "      <td>1279387994277982211</td>\n",
       "      <td>None</td>\n",
       "      <td>None</td>\n",
       "      <td>None</td>\n",
       "      <td>None</td>\n",
       "      <td>None</td>\n",
       "      <td>None</td>\n",
       "      <td>None</td>\n",
       "      <td>RT @ArslanF54213267: Indian terrorist army kil...</td>\n",
       "      <td>None</td>\n",
       "      <td>None</td>\n",
       "      <td>None</td>\n",
       "    </tr>\n",
       "    <tr>\n",
       "      <th>symbols</th>\n",
       "      <td>2020-07-04 12:14:02+00:00</td>\n",
       "      <td>1279387994277982211</td>\n",
       "      <td>None</td>\n",
       "      <td>None</td>\n",
       "      <td>None</td>\n",
       "      <td>None</td>\n",
       "      <td>None</td>\n",
       "      <td>None</td>\n",
       "      <td>None</td>\n",
       "      <td>RT @ArslanF54213267: Indian terrorist army kil...</td>\n",
       "      <td>None</td>\n",
       "      <td>None</td>\n",
       "      <td>None</td>\n",
       "    </tr>\n",
       "    <tr>\n",
       "      <th>user_mentions</th>\n",
       "      <td>2020-07-04 12:14:02+00:00</td>\n",
       "      <td>1279387994277982211</td>\n",
       "      <td>None</td>\n",
       "      <td>None</td>\n",
       "      <td>None</td>\n",
       "      <td>None</td>\n",
       "      <td>None</td>\n",
       "      <td>None</td>\n",
       "      <td>None</td>\n",
       "      <td>RT @ArslanF54213267: Indian terrorist army kil...</td>\n",
       "      <td>None</td>\n",
       "      <td>None</td>\n",
       "      <td>None</td>\n",
       "    </tr>\n",
       "    <tr>\n",
       "      <th>urls</th>\n",
       "      <td>2020-07-04 12:14:02+00:00</td>\n",
       "      <td>1279387994277982211</td>\n",
       "      <td>None</td>\n",
       "      <td>None</td>\n",
       "      <td>None</td>\n",
       "      <td>None</td>\n",
       "      <td>None</td>\n",
       "      <td>None</td>\n",
       "      <td>None</td>\n",
       "      <td>RT @ArslanF54213267: Indian terrorist army kil...</td>\n",
       "      <td>None</td>\n",
       "      <td>None</td>\n",
       "      <td>None</td>\n",
       "    </tr>\n",
       "    <tr>\n",
       "      <th>iso_language_code</th>\n",
       "      <td>2020-07-04 12:14:02+00:00</td>\n",
       "      <td>1279387994277982211</td>\n",
       "      <td>None</td>\n",
       "      <td>None</td>\n",
       "      <td>None</td>\n",
       "      <td>None</td>\n",
       "      <td>None</td>\n",
       "      <td>None</td>\n",
       "      <td>None</td>\n",
       "      <td>RT @ArslanF54213267: Indian terrorist army kil...</td>\n",
       "      <td>None</td>\n",
       "      <td>None</td>\n",
       "      <td>None</td>\n",
       "    </tr>\n",
       "  </tbody>\n",
       "</table>\n",
       "</div>"
      ],
      "text/plain": [
       "                                 created_at                   id  \\\n",
       "hashtags          2020-07-04 12:14:02+00:00  1279387994277982211   \n",
       "symbols           2020-07-04 12:14:02+00:00  1279387994277982211   \n",
       "user_mentions     2020-07-04 12:14:02+00:00  1279387994277982211   \n",
       "urls              2020-07-04 12:14:02+00:00  1279387994277982211   \n",
       "iso_language_code 2020-07-04 12:14:02+00:00  1279387994277982211   \n",
       "\n",
       "                  in_reply_to_screen_name in_reply_to_status_id  \\\n",
       "hashtags                             None                  None   \n",
       "symbols                              None                  None   \n",
       "user_mentions                        None                  None   \n",
       "urls                                 None                  None   \n",
       "iso_language_code                    None                  None   \n",
       "\n",
       "                  in_reply_to_user_id retweeted_id retweeted_screen_name  \\\n",
       "hashtags                         None         None                  None   \n",
       "symbols                          None         None                  None   \n",
       "user_mentions                    None         None                  None   \n",
       "urls                             None         None                  None   \n",
       "iso_language_code                None         None                  None   \n",
       "\n",
       "                  user_mentions_screen_name user_mentions_id  \\\n",
       "hashtags                               None             None   \n",
       "symbols                                None             None   \n",
       "user_mentions                          None             None   \n",
       "urls                                   None             None   \n",
       "iso_language_code                      None             None   \n",
       "\n",
       "                                                                text user_id  \\\n",
       "hashtags           RT @ArslanF54213267: Indian terrorist army kil...    None   \n",
       "symbols            RT @ArslanF54213267: Indian terrorist army kil...    None   \n",
       "user_mentions      RT @ArslanF54213267: Indian terrorist army kil...    None   \n",
       "urls               RT @ArslanF54213267: Indian terrorist army kil...    None   \n",
       "iso_language_code  RT @ArslanF54213267: Indian terrorist army kil...    None   \n",
       "\n",
       "                  screen_name followers_count  \n",
       "hashtags                 None            None  \n",
       "symbols                  None            None  \n",
       "user_mentions            None            None  \n",
       "urls                     None            None  \n",
       "iso_language_code        None            None  "
      ]
     },
     "execution_count": 120,
     "metadata": {},
     "output_type": "execute_result"
    }
   ],
   "source": [
    "tweets_final.head(5)"
   ]
  },
  {
   "cell_type": "code",
   "execution_count": 19,
   "metadata": {},
   "outputs": [],
   "source": [
    "graph = nx.Graph()"
   ]
  },
  {
   "cell_type": "code",
   "execution_count": 20,
   "metadata": {},
   "outputs": [],
   "source": [
    "for index, tweet in tweets_final.iterrows():\n",
    "    user, interactions = get_interactions(tweet)\n",
    "    user_id, user_name = user\n",
    "    tweet_id = tweet[\"id\"]\n",
    "    #tweet_sent = tweet[\"sentiment\"]\n",
    "    for interaction in interactions:\n",
    "        int_id, int_name = interaction\n",
    "        graph.add_edge(user_id, int_id, tweet_id=tweet_id)\n",
    "        \n",
    "\n",
    "        graph.nodes[user_id][\"name\"] = user_name\n",
    "        graph.nodes[int_id][\"name\"] = int_name  "
   ]
  },
  {
   "cell_type": "code",
   "execution_count": 21,
   "metadata": {},
   "outputs": [
    {
     "name": "stdout",
     "output_type": "stream",
     "text": [
      "There are 2 nodes and 1 edges present in the Graph\n"
     ]
    }
   ],
   "source": [
    "print(f\"There are {graph.number_of_nodes()} nodes and {graph.number_of_edges()} edges present in the Graph\")"
   ]
  },
  {
   "cell_type": "code",
   "execution_count": 22,
   "metadata": {},
   "outputs": [],
   "source": [
    "g1 = nx.generators.random_graphs.barabasi_albert_graph(2, 1, seed=None)"
   ]
  },
  {
   "cell_type": "code",
   "execution_count": 23,
   "metadata": {},
   "outputs": [
    {
     "data": {
      "image/png": "[encoded data removed]",
      "text/plain": [
       "<Figure size 432x288 with 1 Axes>"
      ]
     },
     "metadata": {
      "needs_background": "light"
     },
     "output_type": "display_data"
    }
   ],
   "source": [
    "plt.plot(graph)\n",
    "plt.show()"
   ]
  },
  {
   "cell_type": "code",
   "execution_count": null,
   "metadata": {},
   "outputs": [],
   "source": []
  },
  {
   "cell_type": "code",
   "execution_count": 24,
   "metadata": {},
   "outputs": [
    {
     "data": {
      "text/plain": [
       "0.0"
      ]
     },
     "execution_count": 24,
     "metadata": {},
     "output_type": "execute_result"
    }
   ],
   "source": [
    "nx.algorithms.similarity.graph_edit_distance(g1, graph)"
   ]
  },
  {
   "cell_type": "code",
   "execution_count": 25,
   "metadata": {},
   "outputs": [
    {
     "name": "stdout",
     "output_type": "stream",
     "text": [
      "<generator object optimize_graph_edit_distance at 0x0EBD9140>\n"
     ]
    }
   ],
   "source": []
  },
  {
   "cell_type": "code",
   "execution_count": null,
   "metadata": {},
   "outputs": [],
   "source": []
  }
 ],
 "metadata": {
  "kernelspec": {
   "display_name": "Python 3",
   "language": "python",
   "name": "python3"
  },
  "language_info": {
   "codemirror_mode": {
    "name": "ipython",
    "version": 3
   },
   "file_extension": ".py",
   "mimetype": "text/x-python",
   "name": "python",
   "nbconvert_exporter": "python",
   "pygments_lexer": "ipython3",
   "version": "3.8.0"
  }
 },
 "nbformat": 4,
 "nbformat_minor": 4
}
