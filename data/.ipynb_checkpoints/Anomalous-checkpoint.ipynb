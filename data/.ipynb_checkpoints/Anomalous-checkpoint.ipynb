{
 "cells": [
  {
   "cell_type": "code",
   "execution_count": 2,
   "metadata": {},
   "outputs": [],
   "source": [
    "import tweepy\n",
    "from tweepy import OAuthHandler, StreamListener\n",
    "import json\n",
    "import pandas as pd\n",
    "import numpy as np\n",
    "import networkx as nx\n",
    "from scipy import stats\n",
    "import matplotlib.pyplot as plt\n",
    "\n",
    "from operator import itemgetter\n",
    "max_tweets = 20"
   ]
  },
  {
   "cell_type": "code",
   "execution_count": 3,
   "metadata": {
    "scrolled": true
   },
   "outputs": [],
   "source": [
    "\n",
    "with open('#KashmirBleeds.txt', encoding='utf-8') as json_file:  \n",
    "    all_data = json.load(json_file)\n",
    "tweets_df = pd.read_json('test2.txt', encoding='utf-8')\n"
   ]
  },
  {
   "cell_type": "code",
   "execution_count": 4,
   "metadata": {},
   "outputs": [
    {
     "data": {
      "text/plain": [
       "Index(['created_at', 'id', 'id_str', 'text', 'truncated', 'entities',\n",
       "       'extended_entities', 'metadata', 'source', 'in_reply_to_status_id',\n",
       "       'in_reply_to_status_id_str', 'in_reply_to_user_id',\n",
       "       'in_reply_to_user_id_str', 'in_reply_to_screen_name', 'user', 'geo',\n",
       "       'coordinates', 'place', 'contributors', 'is_quote_status',\n",
       "       'retweet_count', 'favorite_count', 'favorited', 'retweeted',\n",
       "       'possibly_sensitive', 'lang', 'retweeted_status'],\n",
       "      dtype='object')"
      ]
     },
     "execution_count": 4,
     "metadata": {},
     "output_type": "execute_result"
    }
   ],
   "source": [
    "tweets_df.columns\n"
   ]
  },
  {
   "cell_type": "code",
   "execution_count": 5,
   "metadata": {},
   "outputs": [],
   "source": [
    "tweets_final = pd.DataFrame(columns = [\"created_at\", \"id\", \"in_reply_to_screen_name\", \"in_reply_to_status_id\", \"in_reply_to_user_id\",\n",
    "                                      \"retweeted_id\", \"retweeted_screen_name\", \"user_mentions_screen_name\", \"user_mentions_id\", \n",
    "                                       \"text\", \"user_id\", \"screen_name\", \"followers_count\"])"
   ]
  },
  {
   "cell_type": "code",
   "execution_count": 6,
   "metadata": {},
   "outputs": [],
   "source": [
    "# Columns that are going to be the same\n",
    "equal_columns = [\"created_at\", \"id\", \"text\"]\n",
    "tweets_final[equal_columns] = tweets_df[equal_columns]"
   ]
  },
  {
   "cell_type": "code",
   "execution_count": 7,
   "metadata": {},
   "outputs": [],
   "source": [
    "def get_basics(tweets_final):\n",
    "    tweets_final[\"screen_name\"] = tweets_df[\"user\"].apply(lambda x: x[\"screen_name\"])\n",
    "    tweets_final[\"user_id\"] = tweets_df[\"user\"].apply(lambda x: x[\"id\"])\n",
    "    tweets_final[\"followers_count\"] = tweets_df[\"user\"].apply(lambda x: x[\"followers_count\"])\n",
    "    return tweets_final"
   ]
  },
  {
   "cell_type": "code",
   "execution_count": 9,
   "metadata": {},
   "outputs": [],
   "source": [
    "def get_usermentions(tweets_final):\n",
    "    # Inside the tag 'entities' will find 'user mentions' and will get 'screen name' and 'id'\n",
    "    tweets_final[\"user_mentions_screen_name\"] = tweets_df[\"entities\"].apply(lambda x: x[\"user_mentions\"][0][\"screen_name\"] if x[\"user_mentions\"] else np.nan)\n",
    "    tweets_final[\"user_mentions_id\"] = tweets_df[\"entities\"].apply(lambda x: x[\"user_mentions\"][0][\"id_str\"] if x[\"user_mentions\"] else np.nan)\n",
    "    return tweets_final"
   ]
  },
  {
   "cell_type": "code",
   "execution_count": 10,
   "metadata": {},
   "outputs": [],
   "source": [
    "def get_retweets(tweets_final):\n",
    "    # Inside the tag 'retweeted_status' will find 'user' and will get 'screen name' and 'id'    \n",
    "    tweets_final[\"retweeted_screen_name\"] = tweets_df[\"retweeted_status\"].apply(lambda x: x[\"user\"][\"screen_name\"] if x is not np.nan else np.nan)\n",
    "    tweets_final[\"retweeted_id\"] = tweets_df[\"retweeted_status\"].apply(lambda x: x[\"user\"][\"id_str\"] if x is not np.nan else np.nan)\n",
    "    return tweets_final"
   ]
  },
  {
   "cell_type": "code",
   "execution_count": 11,
   "metadata": {},
   "outputs": [],
   "source": [
    "def get_in_reply(tweets_final):\n",
    "    # Just copy the 'in_reply' columns to the new dataframe\n",
    "    tweets_final[\"in_reply_to_screen_name\"] = tweets_df[\"in_reply_to_screen_name\"]\n",
    "    tweets_final[\"in_reply_to_status_id\"] = tweets_df[\"in_reply_to_status_id\"]\n",
    "    tweets_final[\"in_reply_to_user_id\"]= tweets_df[\"in_reply_to_user_id\"]\n",
    "    return tweets_final"
   ]
  },
  {
   "cell_type": "code",
   "execution_count": 12,
   "metadata": {},
   "outputs": [],
   "source": [
    "def fill_df(tweets_final):\n",
    "    get_basics(tweets_final)\n",
    "    get_usermentions(tweets_final)\n",
    "    get_retweets(tweets_final)\n",
    "    get_in_reply(tweets_final)\n",
    "    return tweets_final"
   ]
  },
  {
   "cell_type": "code",
   "execution_count": 13,
   "metadata": {},
   "outputs": [],
   "source": [
    "def get_interactions(row):\n",
    "    # From every row of the original dataframe\n",
    "    # First we obtain the 'user_id' and 'screen_name'\n",
    "    user = row[\"user_id\"], row[\"screen_name\"]\n",
    "    # Be careful if there is no user id\n",
    "    if user[0] is None:\n",
    "        return (None, None), []\n",
    "    \n",
    "    # The interactions are going to be a set of tuples\n",
    "    interactions = set()\n",
    "    \n",
    "    # Add all interactions \n",
    "    # First, we add the interactions corresponding to replies adding the id and screen_name\n",
    "    interactions.add((row[\"in_reply_to_user_id\"], row[\"in_reply_to_screen_name\"]))\n",
    "    # After that, we add the interactions with retweets\n",
    "    interactions.add((row[\"retweeted_id\"], row[\"retweeted_screen_name\"]))\n",
    "    # And later, the interactions with user mentions\n",
    "    interactions.add((row[\"user_mentions_id\"], row[\"user_mentions_screen_name\"]))\n",
    "    \n",
    "    # Discard if user id is in interactions\n",
    "    interactions.discard((row[\"user_id\"], row[\"screen_name\"]))\n",
    "    # Discard all not existing values\n",
    "    interactions.discard((None, None))\n",
    "    # Return user and interactions\n",
    "    return user, interactions"
   ]
  },
  {
   "cell_type": "code",
   "execution_count": 14,
   "metadata": {},
   "outputs": [],
   "source": [
    "tweets_final = fill_df(tweets_final)"
   ]
  },
  {
   "cell_type": "code",
   "execution_count": 15,
   "metadata": {},
   "outputs": [],
   "source": [
    "tweets_final = tweets_final.where((pd.notnull(tweets_final)), None)"
   ]
  },
  {
   "cell_type": "code",
   "execution_count": 16,
   "metadata": {},
   "outputs": [
    {
     "data": {
      "text/html": [
       "<div>\n",
       "<style scoped>\n",
       "    .dataframe tbody tr th:only-of-type {\n",
       "        vertical-align: middle;\n",
       "    }\n",
       "\n",
       "    .dataframe tbody tr th {\n",
       "        vertical-align: top;\n",
       "    }\n",
       "\n",
       "    .dataframe thead th {\n",
       "        text-align: right;\n",
       "    }\n",
       "</style>\n",
       "<table border=\"1\" class=\"dataframe\">\n",
       "  <thead>\n",
       "    <tr style=\"text-align: right;\">\n",
       "      <th></th>\n",
       "      <th>created_at</th>\n",
       "      <th>id</th>\n",
       "      <th>in_reply_to_screen_name</th>\n",
       "      <th>in_reply_to_status_id</th>\n",
       "      <th>in_reply_to_user_id</th>\n",
       "      <th>retweeted_id</th>\n",
       "      <th>retweeted_screen_name</th>\n",
       "      <th>user_mentions_screen_name</th>\n",
       "      <th>user_mentions_id</th>\n",
       "      <th>text</th>\n",
       "      <th>user_id</th>\n",
       "      <th>screen_name</th>\n",
       "      <th>followers_count</th>\n",
       "    </tr>\n",
       "  </thead>\n",
       "  <tbody>\n",
       "    <tr>\n",
       "      <th>0</th>\n",
       "      <td>2020-07-05 10:41:03+00:00</td>\n",
       "      <td>1279726981274198016</td>\n",
       "      <td>None</td>\n",
       "      <td>None</td>\n",
       "      <td>None</td>\n",
       "      <td>None</td>\n",
       "      <td>None</td>\n",
       "      <td>None</td>\n",
       "      <td>None</td>\n",
       "      <td>A world of 7.3 Billion people who can hear, ye...</td>\n",
       "      <td>1117328477777121280</td>\n",
       "      <td>Shah__Tawkeer</td>\n",
       "      <td>646</td>\n",
       "    </tr>\n",
       "    <tr>\n",
       "      <th>1</th>\n",
       "      <td>2020-07-05 10:40:57+00:00</td>\n",
       "      <td>1279726958855716865</td>\n",
       "      <td>None</td>\n",
       "      <td>None</td>\n",
       "      <td>None</td>\n",
       "      <td>3308652092</td>\n",
       "      <td>Aamirlateefist</td>\n",
       "      <td>Aamirlateefist</td>\n",
       "      <td>3308652092</td>\n",
       "      <td>RT @Aamirlateefist: For you #KashmirBleeds but...</td>\n",
       "      <td>1094280238266241026</td>\n",
       "      <td>AsadKha39385065</td>\n",
       "      <td>52</td>\n",
       "    </tr>\n",
       "    <tr>\n",
       "      <th>2</th>\n",
       "      <td>2020-07-05 10:40:26+00:00</td>\n",
       "      <td>1279726826248691712</td>\n",
       "      <td>None</td>\n",
       "      <td>None</td>\n",
       "      <td>None</td>\n",
       "      <td>2497340787</td>\n",
       "      <td>Asif_Rafiq_</td>\n",
       "      <td>Asif_Rafiq_</td>\n",
       "      <td>2497340787</td>\n",
       "      <td>RT @Asif_Rafiq_: Does New Delhi view COVID-19 ...</td>\n",
       "      <td>3052530873</td>\n",
       "      <td>Byline_Media</td>\n",
       "      <td>29742</td>\n",
       "    </tr>\n",
       "    <tr>\n",
       "      <th>3</th>\n",
       "      <td>2020-07-05 10:39:30+00:00</td>\n",
       "      <td>1279726593053777920</td>\n",
       "      <td>None</td>\n",
       "      <td>None</td>\n",
       "      <td>None</td>\n",
       "      <td>3308652092</td>\n",
       "      <td>Aamirlateefist</td>\n",
       "      <td>Aamirlateefist</td>\n",
       "      <td>3308652092</td>\n",
       "      <td>RT @Aamirlateefist: For you #KashmirBleeds but...</td>\n",
       "      <td>1279616109210189826</td>\n",
       "      <td>AfzalHu23107661</td>\n",
       "      <td>5</td>\n",
       "    </tr>\n",
       "    <tr>\n",
       "      <th>4</th>\n",
       "      <td>2020-07-05 10:39:28+00:00</td>\n",
       "      <td>1279726583528513538</td>\n",
       "      <td>None</td>\n",
       "      <td>None</td>\n",
       "      <td>None</td>\n",
       "      <td>222022987</td>\n",
       "      <td>AliHZaidiPTI</td>\n",
       "      <td>AliHZaidiPTI</td>\n",
       "      <td>222022987</td>\n",
       "      <td>RT @AliHZaidiPTI: This is what @narendramodi i...</td>\n",
       "      <td>2925275991</td>\n",
       "      <td>smshah_1</td>\n",
       "      <td>110</td>\n",
       "    </tr>\n",
       "    <tr>\n",
       "      <th>5</th>\n",
       "      <td>2020-07-05 10:38:40+00:00</td>\n",
       "      <td>1279726380784054274</td>\n",
       "      <td>None</td>\n",
       "      <td>None</td>\n",
       "      <td>None</td>\n",
       "      <td>3308652092</td>\n",
       "      <td>Aamirlateefist</td>\n",
       "      <td>Aamirlateefist</td>\n",
       "      <td>3308652092</td>\n",
       "      <td>RT @Aamirlateefist: For you #KashmirBleeds but...</td>\n",
       "      <td>1267282296916377600</td>\n",
       "      <td>Shahnaw80465956</td>\n",
       "      <td>28</td>\n",
       "    </tr>\n",
       "    <tr>\n",
       "      <th>6</th>\n",
       "      <td>2020-07-05 10:38:21+00:00</td>\n",
       "      <td>1279726301629370369</td>\n",
       "      <td>None</td>\n",
       "      <td>None</td>\n",
       "      <td>None</td>\n",
       "      <td>3308652092</td>\n",
       "      <td>Aamirlateefist</td>\n",
       "      <td>Aamirlateefist</td>\n",
       "      <td>3308652092</td>\n",
       "      <td>RT @Aamirlateefist: For you #KashmirBleeds but...</td>\n",
       "      <td>1173213764407234561</td>\n",
       "      <td>dawar_fan</td>\n",
       "      <td>497</td>\n",
       "    </tr>\n",
       "    <tr>\n",
       "      <th>7</th>\n",
       "      <td>2020-07-05 10:36:56+00:00</td>\n",
       "      <td>1279725948578009089</td>\n",
       "      <td>None</td>\n",
       "      <td>None</td>\n",
       "      <td>None</td>\n",
       "      <td>3308652092</td>\n",
       "      <td>Aamirlateefist</td>\n",
       "      <td>Aamirlateefist</td>\n",
       "      <td>3308652092</td>\n",
       "      <td>RT @Aamirlateefist: For you #KashmirBleeds but...</td>\n",
       "      <td>1234839405799641089</td>\n",
       "      <td>PakistanDawn1</td>\n",
       "      <td>574</td>\n",
       "    </tr>\n",
       "    <tr>\n",
       "      <th>8</th>\n",
       "      <td>2020-07-05 10:36:20+00:00</td>\n",
       "      <td>1279725794416300033</td>\n",
       "      <td>None</td>\n",
       "      <td>None</td>\n",
       "      <td>None</td>\n",
       "      <td>1251691933593894919</td>\n",
       "      <td>BasheerMirani</td>\n",
       "      <td>BasheerMirani</td>\n",
       "      <td>1251691933593894919</td>\n",
       "      <td>RT @BasheerMirani: For you #KashmirBleeds but,...</td>\n",
       "      <td>1261994211131494401</td>\n",
       "      <td>KeerioFa</td>\n",
       "      <td>121</td>\n",
       "    </tr>\n",
       "    <tr>\n",
       "      <th>9</th>\n",
       "      <td>2020-07-05 10:35:50+00:00</td>\n",
       "      <td>1279725671502082048</td>\n",
       "      <td>None</td>\n",
       "      <td>None</td>\n",
       "      <td>None</td>\n",
       "      <td>1259185829211262978</td>\n",
       "      <td>OnlinePend</td>\n",
       "      <td>OnlinePend</td>\n",
       "      <td>1259185829211262978</td>\n",
       "      <td>RT @OnlinePend: You can watch the full episode...</td>\n",
       "      <td>943177101615644673</td>\n",
       "      <td>mirza_muneeb_4</td>\n",
       "      <td>64</td>\n",
       "    </tr>\n",
       "    <tr>\n",
       "      <th>10</th>\n",
       "      <td>2020-07-05 10:34:51+00:00</td>\n",
       "      <td>1279725421341392901</td>\n",
       "      <td>None</td>\n",
       "      <td>None</td>\n",
       "      <td>None</td>\n",
       "      <td>3308652092</td>\n",
       "      <td>Aamirlateefist</td>\n",
       "      <td>Aamirlateefist</td>\n",
       "      <td>3308652092</td>\n",
       "      <td>RT @Aamirlateefist: For you #KashmirBleeds but...</td>\n",
       "      <td>1275162828056518656</td>\n",
       "      <td>Iftikhar1786</td>\n",
       "      <td>47</td>\n",
       "    </tr>\n",
       "    <tr>\n",
       "      <th>11</th>\n",
       "      <td>2020-07-05 10:34:48+00:00</td>\n",
       "      <td>1279725408204685314</td>\n",
       "      <td>None</td>\n",
       "      <td>None</td>\n",
       "      <td>None</td>\n",
       "      <td>1209720292462882821</td>\n",
       "      <td>_Inquilab_</td>\n",
       "      <td>_Inquilab_</td>\n",
       "      <td>1209720292462882821</td>\n",
       "      <td>RT @_Inquilab_: Dada wali mitayi nahi,\\nDada h...</td>\n",
       "      <td>319787744</td>\n",
       "      <td>MalabarSulthan</td>\n",
       "      <td>63</td>\n",
       "    </tr>\n",
       "    <tr>\n",
       "      <th>12</th>\n",
       "      <td>2020-07-05 10:32:45+00:00</td>\n",
       "      <td>1279724893605675008</td>\n",
       "      <td>None</td>\n",
       "      <td>None</td>\n",
       "      <td>None</td>\n",
       "      <td>3308652092</td>\n",
       "      <td>Aamirlateefist</td>\n",
       "      <td>Aamirlateefist</td>\n",
       "      <td>3308652092</td>\n",
       "      <td>RT @Aamirlateefist: For you #KashmirBleeds but...</td>\n",
       "      <td>1267300061656035329</td>\n",
       "      <td>ADSoomro8</td>\n",
       "      <td>35</td>\n",
       "    </tr>\n",
       "    <tr>\n",
       "      <th>13</th>\n",
       "      <td>2020-07-05 10:32:37+00:00</td>\n",
       "      <td>1279724861149966342</td>\n",
       "      <td>None</td>\n",
       "      <td>None</td>\n",
       "      <td>None</td>\n",
       "      <td>2497340787</td>\n",
       "      <td>Asif_Rafiq_</td>\n",
       "      <td>Asif_Rafiq_</td>\n",
       "      <td>2497340787</td>\n",
       "      <td>RT @Asif_Rafiq_: Does New Delhi view COVID-19 ...</td>\n",
       "      <td>813207648376147968</td>\n",
       "      <td>AabidBashirMir</td>\n",
       "      <td>201</td>\n",
       "    </tr>\n",
       "    <tr>\n",
       "      <th>14</th>\n",
       "      <td>2020-07-05 10:32:31+00:00</td>\n",
       "      <td>1279724834339958784</td>\n",
       "      <td>None</td>\n",
       "      <td>None</td>\n",
       "      <td>None</td>\n",
       "      <td>None</td>\n",
       "      <td>None</td>\n",
       "      <td>None</td>\n",
       "      <td>None</td>\n",
       "      <td>Kulgam didn't recieve the same energy from K-t...</td>\n",
       "      <td>1234883076741685248</td>\n",
       "      <td>Mir_Hadu123</td>\n",
       "      <td>586</td>\n",
       "    </tr>\n",
       "    <tr>\n",
       "      <th>15</th>\n",
       "      <td>2020-07-05 10:32:11+00:00</td>\n",
       "      <td>1279724751024513024</td>\n",
       "      <td>None</td>\n",
       "      <td>None</td>\n",
       "      <td>None</td>\n",
       "      <td>2497340787</td>\n",
       "      <td>Asif_Rafiq_</td>\n",
       "      <td>Asif_Rafiq_</td>\n",
       "      <td>2497340787</td>\n",
       "      <td>RT @Asif_Rafiq_: Does New Delhi view COVID-19 ...</td>\n",
       "      <td>1035418272764715008</td>\n",
       "      <td>BylineTimes</td>\n",
       "      <td>37558</td>\n",
       "    </tr>\n",
       "    <tr>\n",
       "      <th>16</th>\n",
       "      <td>2020-07-05 10:32:00+00:00</td>\n",
       "      <td>1279724704031559681</td>\n",
       "      <td>None</td>\n",
       "      <td>None</td>\n",
       "      <td>None</td>\n",
       "      <td>3308652092</td>\n",
       "      <td>Aamirlateefist</td>\n",
       "      <td>Aamirlateefist</td>\n",
       "      <td>3308652092</td>\n",
       "      <td>RT @Aamirlateefist: For you #KashmirBleeds but...</td>\n",
       "      <td>833052572659363840</td>\n",
       "      <td>BlochkhanEgift</td>\n",
       "      <td>365</td>\n",
       "    </tr>\n",
       "    <tr>\n",
       "      <th>17</th>\n",
       "      <td>2020-07-05 10:31:26+00:00</td>\n",
       "      <td>1279724560879947777</td>\n",
       "      <td>None</td>\n",
       "      <td>None</td>\n",
       "      <td>None</td>\n",
       "      <td>3308652092</td>\n",
       "      <td>Aamirlateefist</td>\n",
       "      <td>Aamirlateefist</td>\n",
       "      <td>3308652092</td>\n",
       "      <td>RT @Aamirlateefist: For you #KashmirBleeds but...</td>\n",
       "      <td>98468907</td>\n",
       "      <td>Makuranbaluch</td>\n",
       "      <td>1545</td>\n",
       "    </tr>\n",
       "    <tr>\n",
       "      <th>18</th>\n",
       "      <td>2020-07-05 10:31:21+00:00</td>\n",
       "      <td>1279724543205167104</td>\n",
       "      <td>None</td>\n",
       "      <td>None</td>\n",
       "      <td>None</td>\n",
       "      <td>204931955</td>\n",
       "      <td>MushaalMullick</td>\n",
       "      <td>MushaalMullick</td>\n",
       "      <td>204931955</td>\n",
       "      <td>RT @MushaalMullick: World must wake up now! Th...</td>\n",
       "      <td>2950308301</td>\n",
       "      <td>BushraMehdi95</td>\n",
       "      <td>504</td>\n",
       "    </tr>\n",
       "    <tr>\n",
       "      <th>19</th>\n",
       "      <td>2020-07-05 10:31:11+00:00</td>\n",
       "      <td>1279724501060780033</td>\n",
       "      <td>None</td>\n",
       "      <td>None</td>\n",
       "      <td>None</td>\n",
       "      <td>3308652092</td>\n",
       "      <td>Aamirlateefist</td>\n",
       "      <td>Aamirlateefist</td>\n",
       "      <td>3308652092</td>\n",
       "      <td>RT @Aamirlateefist: For you #KashmirBleeds but...</td>\n",
       "      <td>1185280920602984450</td>\n",
       "      <td>IrfanJamro5</td>\n",
       "      <td>103</td>\n",
       "    </tr>\n",
       "  </tbody>\n",
       "</table>\n",
       "</div>"
      ],
      "text/plain": [
       "                  created_at                   id in_reply_to_screen_name  \\\n",
       "0  2020-07-05 10:41:03+00:00  1279726981274198016                    None   \n",
       "1  2020-07-05 10:40:57+00:00  1279726958855716865                    None   \n",
       "2  2020-07-05 10:40:26+00:00  1279726826248691712                    None   \n",
       "3  2020-07-05 10:39:30+00:00  1279726593053777920                    None   \n",
       "4  2020-07-05 10:39:28+00:00  1279726583528513538                    None   \n",
       "5  2020-07-05 10:38:40+00:00  1279726380784054274                    None   \n",
       "6  2020-07-05 10:38:21+00:00  1279726301629370369                    None   \n",
       "7  2020-07-05 10:36:56+00:00  1279725948578009089                    None   \n",
       "8  2020-07-05 10:36:20+00:00  1279725794416300033                    None   \n",
       "9  2020-07-05 10:35:50+00:00  1279725671502082048                    None   \n",
       "10 2020-07-05 10:34:51+00:00  1279725421341392901                    None   \n",
       "11 2020-07-05 10:34:48+00:00  1279725408204685314                    None   \n",
       "12 2020-07-05 10:32:45+00:00  1279724893605675008                    None   \n",
       "13 2020-07-05 10:32:37+00:00  1279724861149966342                    None   \n",
       "14 2020-07-05 10:32:31+00:00  1279724834339958784                    None   \n",
       "15 2020-07-05 10:32:11+00:00  1279724751024513024                    None   \n",
       "16 2020-07-05 10:32:00+00:00  1279724704031559681                    None   \n",
       "17 2020-07-05 10:31:26+00:00  1279724560879947777                    None   \n",
       "18 2020-07-05 10:31:21+00:00  1279724543205167104                    None   \n",
       "19 2020-07-05 10:31:11+00:00  1279724501060780033                    None   \n",
       "\n",
       "   in_reply_to_status_id in_reply_to_user_id         retweeted_id  \\\n",
       "0                   None                None                 None   \n",
       "1                   None                None           3308652092   \n",
       "2                   None                None           2497340787   \n",
       "3                   None                None           3308652092   \n",
       "4                   None                None            222022987   \n",
       "5                   None                None           3308652092   \n",
       "6                   None                None           3308652092   \n",
       "7                   None                None           3308652092   \n",
       "8                   None                None  1251691933593894919   \n",
       "9                   None                None  1259185829211262978   \n",
       "10                  None                None           3308652092   \n",
       "11                  None                None  1209720292462882821   \n",
       "12                  None                None           3308652092   \n",
       "13                  None                None           2497340787   \n",
       "14                  None                None                 None   \n",
       "15                  None                None           2497340787   \n",
       "16                  None                None           3308652092   \n",
       "17                  None                None           3308652092   \n",
       "18                  None                None            204931955   \n",
       "19                  None                None           3308652092   \n",
       "\n",
       "   retweeted_screen_name user_mentions_screen_name     user_mentions_id  \\\n",
       "0                   None                      None                 None   \n",
       "1         Aamirlateefist            Aamirlateefist           3308652092   \n",
       "2            Asif_Rafiq_               Asif_Rafiq_           2497340787   \n",
       "3         Aamirlateefist            Aamirlateefist           3308652092   \n",
       "4           AliHZaidiPTI              AliHZaidiPTI            222022987   \n",
       "5         Aamirlateefist            Aamirlateefist           3308652092   \n",
       "6         Aamirlateefist            Aamirlateefist           3308652092   \n",
       "7         Aamirlateefist            Aamirlateefist           3308652092   \n",
       "8          BasheerMirani             BasheerMirani  1251691933593894919   \n",
       "9             OnlinePend                OnlinePend  1259185829211262978   \n",
       "10        Aamirlateefist            Aamirlateefist           3308652092   \n",
       "11            _Inquilab_                _Inquilab_  1209720292462882821   \n",
       "12        Aamirlateefist            Aamirlateefist           3308652092   \n",
       "13           Asif_Rafiq_               Asif_Rafiq_           2497340787   \n",
       "14                  None                      None                 None   \n",
       "15           Asif_Rafiq_               Asif_Rafiq_           2497340787   \n",
       "16        Aamirlateefist            Aamirlateefist           3308652092   \n",
       "17        Aamirlateefist            Aamirlateefist           3308652092   \n",
       "18        MushaalMullick            MushaalMullick            204931955   \n",
       "19        Aamirlateefist            Aamirlateefist           3308652092   \n",
       "\n",
       "                                                 text              user_id  \\\n",
       "0   A world of 7.3 Billion people who can hear, ye...  1117328477777121280   \n",
       "1   RT @Aamirlateefist: For you #KashmirBleeds but...  1094280238266241026   \n",
       "2   RT @Asif_Rafiq_: Does New Delhi view COVID-19 ...           3052530873   \n",
       "3   RT @Aamirlateefist: For you #KashmirBleeds but...  1279616109210189826   \n",
       "4   RT @AliHZaidiPTI: This is what @narendramodi i...           2925275991   \n",
       "5   RT @Aamirlateefist: For you #KashmirBleeds but...  1267282296916377600   \n",
       "6   RT @Aamirlateefist: For you #KashmirBleeds but...  1173213764407234561   \n",
       "7   RT @Aamirlateefist: For you #KashmirBleeds but...  1234839405799641089   \n",
       "8   RT @BasheerMirani: For you #KashmirBleeds but,...  1261994211131494401   \n",
       "9   RT @OnlinePend: You can watch the full episode...   943177101615644673   \n",
       "10  RT @Aamirlateefist: For you #KashmirBleeds but...  1275162828056518656   \n",
       "11  RT @_Inquilab_: Dada wali mitayi nahi,\\nDada h...            319787744   \n",
       "12  RT @Aamirlateefist: For you #KashmirBleeds but...  1267300061656035329   \n",
       "13  RT @Asif_Rafiq_: Does New Delhi view COVID-19 ...   813207648376147968   \n",
       "14  Kulgam didn't recieve the same energy from K-t...  1234883076741685248   \n",
       "15  RT @Asif_Rafiq_: Does New Delhi view COVID-19 ...  1035418272764715008   \n",
       "16  RT @Aamirlateefist: For you #KashmirBleeds but...   833052572659363840   \n",
       "17  RT @Aamirlateefist: For you #KashmirBleeds but...             98468907   \n",
       "18  RT @MushaalMullick: World must wake up now! Th...           2950308301   \n",
       "19  RT @Aamirlateefist: For you #KashmirBleeds but...  1185280920602984450   \n",
       "\n",
       "        screen_name  followers_count  \n",
       "0     Shah__Tawkeer              646  \n",
       "1   AsadKha39385065               52  \n",
       "2      Byline_Media            29742  \n",
       "3   AfzalHu23107661                5  \n",
       "4          smshah_1              110  \n",
       "5   Shahnaw80465956               28  \n",
       "6         dawar_fan              497  \n",
       "7     PakistanDawn1              574  \n",
       "8          KeerioFa              121  \n",
       "9    mirza_muneeb_4               64  \n",
       "10     Iftikhar1786               47  \n",
       "11   MalabarSulthan               63  \n",
       "12        ADSoomro8               35  \n",
       "13   AabidBashirMir              201  \n",
       "14      Mir_Hadu123              586  \n",
       "15      BylineTimes            37558  \n",
       "16   BlochkhanEgift              365  \n",
       "17    Makuranbaluch             1545  \n",
       "18    BushraMehdi95              504  \n",
       "19      IrfanJamro5              103  "
      ]
     },
     "execution_count": 16,
     "metadata": {},
     "output_type": "execute_result"
    }
   ],
   "source": [
    "tweets_final.head(20)"
   ]
  },
  {
   "cell_type": "code",
   "execution_count": 17,
   "metadata": {},
   "outputs": [],
   "source": [
    "graph = nx.Graph()"
   ]
  },
  {
   "cell_type": "code",
   "execution_count": 18,
   "metadata": {},
   "outputs": [],
   "source": [
    "for index, tweet in tweets_final.iterrows():\n",
    "    user, interactions = get_interactions(tweet)\n",
    "    user_id, user_name = user\n",
    "    tweet_id = tweet[\"id\"]\n",
    "    #tweet_sent = tweet[\"sentiment\"]\n",
    "    for interaction in interactions:\n",
    "        int_id, int_name = interaction\n",
    "        graph.add_edge(user_id, int_id, tweet_id=tweet_id)\n",
    "        \n",
    "\n",
    "        graph.nodes[user_id][\"name\"] = user_name\n",
    "        graph.nodes[int_id][\"name\"] = int_name  "
   ]
  },
  {
   "cell_type": "code",
   "execution_count": 19,
   "metadata": {},
   "outputs": [
    {
     "name": "stdout",
     "output_type": "stream",
     "text": [
      "There are 25 nodes and 18 edges present in the Graph\n"
     ]
    }
   ],
   "source": [
    "print(f\"There are {graph.number_of_nodes()} nodes and {graph.number_of_edges()} edges present in the Graph\")"
   ]
  },
  {
   "cell_type": "code",
   "execution_count": 20,
   "metadata": {},
   "outputs": [],
   "source": [
    "degrees = [val for (node, val) in graph.degree()]\n"
   ]
  },
  {
   "cell_type": "code",
   "execution_count": 21,
   "metadata": {},
   "outputs": [
    {
     "name": "stdout",
     "output_type": "stream",
     "text": [
      "The maximum degree of the Graph is 10\n",
      "The minimum degree of the Graph is 1\n"
     ]
    }
   ],
   "source": [
    "print(f\"The maximum degree of the Graph is {np.max(degrees)}\")   \n",
    "print(f\"The minimum degree of the Graph is {np.min(degrees)}\")  "
   ]
  },
  {
   "cell_type": "code",
   "execution_count": 22,
   "metadata": {},
   "outputs": [
    {
     "name": "stdout",
     "output_type": "stream",
     "text": [
      "The average degree of the nodes in the Graph is 1.4\n",
      "The most frequent degree of the nodes found in the Graph is 1\n"
     ]
    }
   ],
   "source": [
    "print(f\"The average degree of the nodes in the Graph is {np.mean(degrees):.1f}\")  \n",
    "print(f\"The most frequent degree of the nodes found in the Graph is {stats.mode(degrees)[0][0]}\") "
   ]
  },
  {
   "cell_type": "code",
   "execution_count": 23,
   "metadata": {},
   "outputs": [
    {
     "name": "stdout",
     "output_type": "stream",
     "text": [
      "The graph is not connected\n"
     ]
    }
   ],
   "source": [
    "if nx.is_connected(graph):\n",
    "    print(\"The graph is connected\")\n",
    "else:\n",
    "    print(\"The graph is not connected\")"
   ]
  },
  {
   "cell_type": "code",
   "execution_count": 24,
   "metadata": {},
   "outputs": [
    {
     "name": "stdout",
     "output_type": "stream",
     "text": [
      "There are 7 connected components in the Graph\n"
     ]
    }
   ],
   "source": [
    "print(f\"There are {nx.number_connected_components(graph)} connected components in the Graph\")  "
   ]
  },
  {
   "cell_type": "code",
   "execution_count": 25,
   "metadata": {},
   "outputs": [],
   "source": [
    "hubs, authorities = nx.hits(graph, max_iter=50, tol=1e-08, nstart=None, normalized=True)"
   ]
  },
  {
   "cell_type": "code",
   "execution_count": 26,
   "metadata": {},
   "outputs": [
    {
     "name": "stdout",
     "output_type": "stream",
     "text": [
      "{1094280238266241026: 0.049999999980628956, '3308652092': 0.4999999998062895, 3052530873: 6.457008147498425e-11, '2497340787': 1.9371024442495275e-10, 1279616109210189826: 0.049999999980628956, 2925275991: 4.9999999980629e-19, '222022987': 4.9999999980629e-19, 1267282296916377600: 0.049999999980628956, 1173213764407234561: 0.049999999980628956, 1234839405799641089: 0.049999999980628956, 1261994211131494401: 4.9999999980629e-19, '1251691933593894919': 4.9999999980629e-19, 943177101615644673: 4.9999999980629e-19, '1259185829211262978': 4.9999999980629e-19, 1275162828056518656: 0.049999999980628956, 319787744: 4.9999999980629e-19, '1209720292462882821': 4.9999999980629e-19, 1267300061656035329: 0.049999999980628956, 813207648376147968: 6.457008147498425e-11, 1035418272764715008: 6.457008147498425e-11, 833052572659363840: 0.049999999980628956, 98468907: 0.049999999980628956, 2950308301: 4.9999999980629e-19, '204931955': 4.9999999980629e-19, 1185280920602984450: 0.049999999980628956}\n"
     ]
    }
   ],
   "source": [
    "print(authorities)"
   ]
  },
  {
   "cell_type": "code",
   "execution_count": 27,
   "metadata": {},
   "outputs": [],
   "source": [
    "max_key = max(authorities, key=authorities.get)"
   ]
  },
  {
   "cell_type": "code",
   "execution_count": 28,
   "metadata": {},
   "outputs": [
    {
     "name": "stdout",
     "output_type": "stream",
     "text": [
      "3308652092\n"
     ]
    }
   ],
   "source": [
    "print(max_key)"
   ]
  },
  {
   "cell_type": "code",
   "execution_count": 30,
   "metadata": {},
   "outputs": [],
   "source": [
    "largest_subgraph = max(nx.connected_component_subgraphs(graph), key=len)"
   ]
  },
  {
   "cell_type": "code",
   "execution_count": 31,
   "metadata": {},
   "outputs": [
    {
     "name": "stdout",
     "output_type": "stream",
     "text": [
      "There are 11 nodes and 10 edges present in the largest component of the Graph\n"
     ]
    }
   ],
   "source": [
    "print(f\"There are {largest_subgraph.number_of_nodes()} nodes and {largest_subgraph.number_of_edges()} \\\n",
    "edges present in the largest component of the Graph\")"
   ]
  },
  {
   "cell_type": "code",
   "execution_count": 73,
   "metadata": {},
   "outputs": [],
   "source": [
    "set_list = []\n",
    "for x in nx.algorithms.community.label_propagation.label_propagation_communities(graph):\n",
    "    set_list.append(x)"
   ]
  },
  {
   "cell_type": "code",
   "execution_count": 74,
   "metadata": {},
   "outputs": [
    {
     "name": "stdout",
     "output_type": "stream",
     "text": [
      "[{'222022987', 2925275991}, {1261994211131494401, '1251691933593894919'}, {943177101615644673, '1259185829211262978'}, {319787744, '1209720292462882821'}, {813207648376147968, 3052530873, 1035418272764715008, '2497340787'}, {'204931955', 2950308301}, {1267282296916377600, 1173213764407234561, 1094280238266241026, 1279616109210189826, '3308652092', 1234839405799641089, 1275162828056518656, 1267300061656035329, 833052572659363840, 1185280920602984450, 98468907}]\n"
     ]
    }
   ],
   "source": [
    "print(set_list)"
   ]
  },
  {
   "cell_type": "code",
   "execution_count": 79,
   "metadata": {},
   "outputs": [
    {
     "name": "stdout",
     "output_type": "stream",
     "text": [
      "11\n"
     ]
    }
   ],
   "source": [
    "for i in set_list:\n",
    "    if max_key in i:\n",
    "        spam = i"
   ]
  },
  {
   "cell_type": "code",
   "execution_count": 88,
   "metadata": {},
   "outputs": [
    {
     "name": "stdout",
     "output_type": "stream",
     "text": [
      "0.55\n"
     ]
    }
   ],
   "source": [
    "spammer_ratio = len(spam)/max_tweet\n",
    "print(spammer_ratio)"
   ]
  },
  {
   "cell_type": "code",
   "execution_count": 86,
   "metadata": {},
   "outputs": [
    {
     "ename": "NameError",
     "evalue": "name 'spammer_ratio' is not defined",
     "output_type": "error",
     "traceback": [
      "\u001b[1;31m---------------------------------------------------------------------------\u001b[0m",
      "\u001b[1;31mNameError\u001b[0m                                 Traceback (most recent call last)",
      "\u001b[1;32m<ipython-input-86-39916805c1bd>\u001b[0m in \u001b[0;36m<module>\u001b[1;34m\u001b[0m\n\u001b[1;32m----> 1\u001b[1;33m \u001b[0mprint\u001b[0m\u001b[1;33m(\u001b[0m\u001b[0mspammer_ratio\u001b[0m\u001b[1;33m)\u001b[0m\u001b[1;33m\u001b[0m\u001b[1;33m\u001b[0m\u001b[0m\n\u001b[0m",
      "\u001b[1;31mNameError\u001b[0m: name 'spammer_ratio' is not defined"
     ]
    }
   ],
   "source": []
  },
  {
   "cell_type": "code",
   "execution_count": 39,
   "metadata": {},
   "outputs": [],
   "source": []
  },
  {
   "cell_type": "code",
   "execution_count": 40,
   "metadata": {},
   "outputs": [],
   "source": []
  },
  {
   "cell_type": "code",
   "execution_count": 41,
   "metadata": {},
   "outputs": [],
   "source": []
  },
  {
   "cell_type": "code",
   "execution_count": 42,
   "metadata": {},
   "outputs": [],
   "source": []
  },
  {
   "cell_type": "code",
   "execution_count": 43,
   "metadata": {},
   "outputs": [
    {
     "name": "stdout",
     "output_type": "stream",
     "text": [
      "the node with id 3308652092 has a degree centrality of 1.00 which is the maximum of the Graph\n",
      "the node with id 3308652092 has a closeness centrality of 1.00 which is the maximum of the Graph\n",
      "the node with id 3308652092 has a betweenness centrality of 1.00 which is the maximum of the Graph\n"
     ]
    }
   ],
   "source": []
  },
  {
   "cell_type": "code",
   "execution_count": 54,
   "metadata": {},
   "outputs": [],
   "source": [
    "\n",
    "colors_central_nodes = ['orange', 'red']\n",
    "central_nodes = ['3308652092']"
   ]
  },
  {
   "cell_type": "code",
   "execution_count": 55,
   "metadata": {},
   "outputs": [],
   "source": [
    "pos = nx.spring_layout(largest_subgraph)"
   ]
  },
  {
   "cell_type": "code",
   "execution_count": 64,
   "metadata": {},
   "outputs": [
    {
     "data": {
      "image/png": "[encoded data removed]",
      "text/plain": [
       "<Figure size 720x720 with 1 Axes>"
      ]
     },
     "metadata": {},
     "output_type": "display_data"
    }
   ],
   "source": [
    "plt.figure(figsize = (10,10))\n",
    "nx.draw(largest_subgraph, pos=pos, node_color=range(11), cmap=plt.cm.PiYG, edge_color=\"black\", linewidths=0.3, node_size=60, alpha=0.6, with_labels=False)\n",
    "#nx.draw_networkx_nodes(largest_subgraph, pos=pos, nodelist=central_nodes, node_size=20, node_color=colors_central_nodes)\n",
    "plt.savefig('graphfinal.png')\n",
    "plt.show()"
   ]
  },
  {
   "cell_type": "code",
   "execution_count": null,
   "metadata": {},
   "outputs": [],
   "source": []
  }
 ],
 "metadata": {
  "kernelspec": {
   "display_name": "Python 3",
   "language": "python",
   "name": "python3"
  },
  "language_info": {
   "codemirror_mode": {
    "name": "ipython",
    "version": 3
   },
   "file_extension": ".py",
   "mimetype": "text/x-python",
   "name": "python",
   "nbconvert_exporter": "python",
   "pygments_lexer": "ipython3",
   "version": "3.8.0"
  }
 },
 "nbformat": 4,
 "nbformat_minor": 4
}
