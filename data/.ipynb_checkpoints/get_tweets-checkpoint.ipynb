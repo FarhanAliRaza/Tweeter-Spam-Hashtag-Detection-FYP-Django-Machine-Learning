{
 "cells": [
  {
   "cell_type": "code",
   "execution_count": 81,
   "metadata": {},
   "outputs": [],
   "source": [
    "import tweepy\n",
    "from tweepy import OAuthHandler, StreamListener\n",
    "import json\n",
    "import pandas as pd\n",
    "import numpy as np\n",
    "import networkx as nx\n",
    "from scipy import stats\n",
    "import matplotlib.pyplot as plt\n",
    "from operator import itemgetter\n",
    "max_tweets = 20\n",
    "import date"
   ]
  },
  {
   "cell_type": "code",
   "execution_count": 3,
   "metadata": {
    "scrolled": true
   },
   "outputs": [],
   "source": [
    "\n",
    "consumer_key = 'NFbD1D02Zcpiycf3R4ERNHVZT'\n",
    "consumer_secret = 'gudVy9WtPFg5zM1vKD2gHMHrWCU6iZqVpRnRqDRYBdtFbSUYbQ'\n",
    "access_token = '964918233391300609-0cnIOmL24ffvyQVd2M3IYNj01L6fUlp'\n",
    "access_token_secret = '7IGEGg6c1lE14KIYcAIkomCSECXhL9NUxvoYRTGX2Avb5'\n",
    "\n",
    "auth = OAuthHandler(consumer_key, consumer_secret)\n",
    "auth.set_access_token(access_token, access_token_secret)\n",
    "\n",
    "api = tweepy.API(auth, wait_on_rate_limit=True)\n",
    "\n",
    "q = '#KashmirBleeds'\n",
    "list=[]\n",
    "for tweet in tweepy.Cursor(api.search, q='#KashmirBleeds', rpp =100).items(20):\n",
    "    list.append(tweet._json)\n",
    "with open(f'{q}+.txt', 'w') as file:\n",
    "        file.write(json.dumps(list, indent=4))\n",
    " \n",
    "    \n"
   ]
  }
 ],
 "metadata": {
  "kernelspec": {
   "display_name": "Python 3",
   "language": "python",
   "name": "python3"
  },
  "language_info": {
   "codemirror_mode": {
    "name": "ipython",
    "version": 3
   },
   "file_extension": ".py",
   "mimetype": "text/x-python",
   "name": "python",
   "nbconvert_exporter": "python",
   "pygments_lexer": "ipython3",
   "version": "3.8.0"
  }
 },
 "nbformat": 4,
 "nbformat_minor": 4
}
