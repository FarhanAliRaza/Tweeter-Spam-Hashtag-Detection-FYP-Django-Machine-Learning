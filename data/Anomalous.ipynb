{
 "cells": [
  {
   "cell_type": "code",
   "execution_count": 1,
   "metadata": {},
   "outputs": [],
   "source": [
    "import tweepy\n",
    "from tweepy import OAuthHandler, StreamListener\n",
    "import json\n",
    "import pandas as pd\n",
    "import numpy as np\n",
    "import networkx as nx\n",
    "from scipy import stats\n",
    "import matplotlib.pyplot as plt\n",
    "\n",
    "from operator import itemgetter\n",
    "max_tweets = 20"
   ]
  },
  {
   "cell_type": "code",
   "execution_count": 3,
   "metadata": {
    "scrolled": true
   },
   "outputs": [],
   "source": [
    "\n",
    "tweets_df = pd.read_json('#KashmirBleeds.txt', encoding='utf-8')\n"
   ]
  },
  {
   "cell_type": "code",
   "execution_count": 4,
   "metadata": {},
   "outputs": [
    {
     "data": {
      "text/plain": [
       "Index(['created_at', 'id', 'id_str', 'text', 'truncated', 'entities',\n",
       "       'metadata', 'source', 'in_reply_to_status_id',\n",
       "       'in_reply_to_status_id_str', 'in_reply_to_user_id',\n",
       "       'in_reply_to_user_id_str', 'in_reply_to_screen_name', 'user', 'geo',\n",
       "       'coordinates', 'place', 'contributors', 'retweeted_status',\n",
       "       'is_quote_status', 'retweet_count', 'favorite_count', 'favorited',\n",
       "       'retweeted', 'lang', 'possibly_sensitive', 'extended_entities',\n",
       "       'quoted_status_id', 'quoted_status_id_str', 'quoted_status'],\n",
       "      dtype='object')"
      ]
     },
     "execution_count": 4,
     "metadata": {},
     "output_type": "execute_result"
    }
   ],
   "source": [
    "tweets_df.columns\n"
   ]
  },
  {
   "cell_type": "code",
   "execution_count": 5,
   "metadata": {},
   "outputs": [],
   "source": [
    "tweets_final = pd.DataFrame(columns = [\"created_at\", \"id\", \"in_reply_to_screen_name\", \"in_reply_to_status_id\", \"in_reply_to_user_id\",\n",
    "                                      \"retweeted_id\", \"retweeted_screen_name\", \"user_mentions_screen_name\", \"user_mentions_id\", \n",
    "                                       \"text\", \"user_id\", \"screen_name\", \"followers_count\"])"
   ]
  },
  {
   "cell_type": "code",
   "execution_count": 6,
   "metadata": {},
   "outputs": [],
   "source": [
    "# Columns that are going to be the same\n",
    "equal_columns = [\"created_at\", \"id\", \"text\"]\n",
    "tweets_final[equal_columns] = tweets_df[equal_columns]"
   ]
  },
  {
   "cell_type": "code",
   "execution_count": 7,
   "metadata": {},
   "outputs": [],
   "source": [
    "def get_basics(tweets_final):\n",
    "    tweets_final[\"screen_name\"] = tweets_df[\"user\"].apply(lambda x: x[\"screen_name\"])\n",
    "    tweets_final[\"user_id\"] = tweets_df[\"user\"].apply(lambda x: x[\"id\"])\n",
    "    tweets_final[\"followers_count\"] = tweets_df[\"user\"].apply(lambda x: x[\"followers_count\"])\n",
    "    return tweets_final"
   ]
  },
  {
   "cell_type": "code",
   "execution_count": 8,
   "metadata": {},
   "outputs": [],
   "source": [
    "def get_usermentions(tweets_final):\n",
    "    # Inside the tag 'entities' will find 'user mentions' and will get 'screen name' and 'id'\n",
    "    tweets_final[\"user_mentions_screen_name\"] = tweets_df[\"entities\"].apply(lambda x: x[\"user_mentions\"][0][\"screen_name\"] if x[\"user_mentions\"] else np.nan)\n",
    "    tweets_final[\"user_mentions_id\"] = tweets_df[\"entities\"].apply(lambda x: x[\"user_mentions\"][0][\"id_str\"] if x[\"user_mentions\"] else np.nan)\n",
    "    return tweets_final"
   ]
  },
  {
   "cell_type": "code",
   "execution_count": 9,
   "metadata": {},
   "outputs": [],
   "source": [
    "def get_retweets(tweets_final):\n",
    "    # Inside the tag 'retweeted_status' will find 'user' and will get 'screen name' and 'id'    \n",
    "    tweets_final[\"retweeted_screen_name\"] = tweets_df[\"retweeted_status\"].apply(lambda x: x[\"user\"][\"screen_name\"] if x is not np.nan else np.nan)\n",
    "    tweets_final[\"retweeted_id\"] = tweets_df[\"retweeted_status\"].apply(lambda x: x[\"user\"][\"id_str\"] if x is not np.nan else np.nan)\n",
    "    return tweets_final"
   ]
  },
  {
   "cell_type": "code",
   "execution_count": 10,
   "metadata": {},
   "outputs": [],
   "source": [
    "def get_in_reply(tweets_final):\n",
    "    # Just copy the 'in_reply' columns to the new dataframe\n",
    "    tweets_final[\"in_reply_to_screen_name\"] = tweets_df[\"in_reply_to_screen_name\"]\n",
    "    tweets_final[\"in_reply_to_status_id\"] = tweets_df[\"in_reply_to_status_id\"]\n",
    "    tweets_final[\"in_reply_to_user_id\"]= tweets_df[\"in_reply_to_user_id\"]\n",
    "    return tweets_final"
   ]
  },
  {
   "cell_type": "code",
   "execution_count": 11,
   "metadata": {},
   "outputs": [],
   "source": [
    "def fill_df(tweets_final):\n",
    "    get_basics(tweets_final)\n",
    "    get_usermentions(tweets_final)\n",
    "    get_retweets(tweets_final)\n",
    "    get_in_reply(tweets_final)\n",
    "    return tweets_final"
   ]
  },
  {
   "cell_type": "code",
   "execution_count": 12,
   "metadata": {},
   "outputs": [],
   "source": [
    "def get_interactions(row):\n",
    "    # From every row of the original dataframe\n",
    "    # First we obtain the 'user_id' and 'screen_name'\n",
    "    user = row[\"user_id\"], row[\"screen_name\"]\n",
    "    # Be careful if there is no user id\n",
    "    if user[0] is None:\n",
    "        return (None, None), []\n",
    "    \n",
    "    # The interactions are going to be a set of tuples\n",
    "    interactions = set()\n",
    "    \n",
    "    # Add all interactions \n",
    "    # First, we add the interactions corresponding to replies adding the id and screen_name\n",
    "    interactions.add((row[\"in_reply_to_user_id\"], row[\"in_reply_to_screen_name\"]))\n",
    "    # After that, we add the interactions with retweets\n",
    "    interactions.add((row[\"retweeted_id\"], row[\"retweeted_screen_name\"]))\n",
    "    # And later, the interactions with user mentions\n",
    "    interactions.add((row[\"user_mentions_id\"], row[\"user_mentions_screen_name\"]))\n",
    "    \n",
    "    # Discard if user id is in interactions\n",
    "    interactions.discard((row[\"user_id\"], row[\"screen_name\"]))\n",
    "    # Discard all not existing values\n",
    "    interactions.discard((None, None))\n",
    "    # Return user and interactions\n",
    "    return user, interactions"
   ]
  },
  {
   "cell_type": "code",
   "execution_count": 13,
   "metadata": {},
   "outputs": [],
   "source": [
    "tweets_final = fill_df(tweets_final)"
   ]
  },
  {
   "cell_type": "code",
   "execution_count": 14,
   "metadata": {},
   "outputs": [],
   "source": [
    "tweets_final = tweets_final.where((pd.notnull(tweets_final)), None)"
   ]
  },
  {
   "cell_type": "code",
   "execution_count": 15,
   "metadata": {},
   "outputs": [
    {
     "data": {
      "text/html": [
       "<div>\n",
       "<style scoped>\n",
       "    .dataframe tbody tr th:only-of-type {\n",
       "        vertical-align: middle;\n",
       "    }\n",
       "\n",
       "    .dataframe tbody tr th {\n",
       "        vertical-align: top;\n",
       "    }\n",
       "\n",
       "    .dataframe thead th {\n",
       "        text-align: right;\n",
       "    }\n",
       "</style>\n",
       "<table border=\"1\" class=\"dataframe\">\n",
       "  <thead>\n",
       "    <tr style=\"text-align: right;\">\n",
       "      <th></th>\n",
       "      <th>created_at</th>\n",
       "      <th>id</th>\n",
       "      <th>in_reply_to_screen_name</th>\n",
       "      <th>in_reply_to_status_id</th>\n",
       "      <th>in_reply_to_user_id</th>\n",
       "      <th>retweeted_id</th>\n",
       "      <th>retweeted_screen_name</th>\n",
       "      <th>user_mentions_screen_name</th>\n",
       "      <th>user_mentions_id</th>\n",
       "      <th>text</th>\n",
       "      <th>user_id</th>\n",
       "      <th>screen_name</th>\n",
       "      <th>followers_count</th>\n",
       "    </tr>\n",
       "  </thead>\n",
       "  <tbody>\n",
       "    <tr>\n",
       "      <th>0</th>\n",
       "      <td>2020-07-06 18:11:15+00:00</td>\n",
       "      <td>1280202665616568320</td>\n",
       "      <td>None</td>\n",
       "      <td>None</td>\n",
       "      <td>None</td>\n",
       "      <td>1154719634425176064</td>\n",
       "      <td>aminsaki10</td>\n",
       "      <td>aminsaki10</td>\n",
       "      <td>1154719634425176064</td>\n",
       "      <td>RT @aminsaki10: صدای هل من ناصر ینصرنی می اید ...</td>\n",
       "      <td>894817947704799234</td>\n",
       "      <td>khafangoo</td>\n",
       "      <td>250</td>\n",
       "    </tr>\n",
       "    <tr>\n",
       "      <th>1</th>\n",
       "      <td>2020-07-06 18:11:10+00:00</td>\n",
       "      <td>1280202647962877954</td>\n",
       "      <td>None</td>\n",
       "      <td>None</td>\n",
       "      <td>None</td>\n",
       "      <td>1172757984306507776</td>\n",
       "      <td>divaneetar</td>\n",
       "      <td>divaneetar</td>\n",
       "      <td>1172757984306507776</td>\n",
       "      <td>RT @divaneetar: فردا، سه‌شنبه، ساعت ۲۲ الی ۲۴\\...</td>\n",
       "      <td>1216076009235271680</td>\n",
       "      <td>hadi_j01</td>\n",
       "      <td>2004</td>\n",
       "    </tr>\n",
       "    <tr>\n",
       "      <th>2</th>\n",
       "      <td>2020-07-06 18:10:46+00:00</td>\n",
       "      <td>1280202544711716865</td>\n",
       "      <td>bbr314</td>\n",
       "      <td>1.28009e+18</td>\n",
       "      <td>8.55356e+17</td>\n",
       "      <td>None</td>\n",
       "      <td>None</td>\n",
       "      <td>bbr314</td>\n",
       "      <td>855355938584371200</td>\n",
       "      <td>@bbr314 @T_hassanpour_99 #KashmirBleeds</td>\n",
       "      <td>1246477721200480256</td>\n",
       "      <td>mohamma31337298</td>\n",
       "      <td>35</td>\n",
       "    </tr>\n",
       "    <tr>\n",
       "      <th>3</th>\n",
       "      <td>2020-07-06 18:09:46+00:00</td>\n",
       "      <td>1280202295796477960</td>\n",
       "      <td>None</td>\n",
       "      <td>None</td>\n",
       "      <td>None</td>\n",
       "      <td>1055847417323667458</td>\n",
       "      <td>Ma_Mohsenzadeh</td>\n",
       "      <td>Ma_Mohsenzadeh</td>\n",
       "      <td>1055847417323667458</td>\n",
       "      <td>RT @Ma_Mohsenzadeh: Today, we are waiting for ...</td>\n",
       "      <td>1045625681755942912</td>\n",
       "      <td>AvAbolfazl</td>\n",
       "      <td>1257</td>\n",
       "    </tr>\n",
       "    <tr>\n",
       "      <th>4</th>\n",
       "      <td>2020-07-06 18:09:45+00:00</td>\n",
       "      <td>1280202289874194432</td>\n",
       "      <td>None</td>\n",
       "      <td>None</td>\n",
       "      <td>None</td>\n",
       "      <td>164508549</td>\n",
       "      <td>_A_political</td>\n",
       "      <td>_A_political</td>\n",
       "      <td>164508549</td>\n",
       "      <td>RT @_A_political: You can't just be concerned ...</td>\n",
       "      <td>164508549</td>\n",
       "      <td>_A_political</td>\n",
       "      <td>218</td>\n",
       "    </tr>\n",
       "    <tr>\n",
       "      <th>5</th>\n",
       "      <td>2020-07-06 18:09:22+00:00</td>\n",
       "      <td>1280202193329676293</td>\n",
       "      <td>None</td>\n",
       "      <td>None</td>\n",
       "      <td>None</td>\n",
       "      <td>185159449</td>\n",
       "      <td>RadioPakistan</td>\n",
       "      <td>RadioPakistan</td>\n",
       "      <td>185159449</td>\n",
       "      <td>RT @RadioPakistan: Posters have appeared in #S...</td>\n",
       "      <td>1270590367927275521</td>\n",
       "      <td>kashifkhalidkh2</td>\n",
       "      <td>0</td>\n",
       "    </tr>\n",
       "    <tr>\n",
       "      <th>6</th>\n",
       "      <td>2020-07-06 18:08:31+00:00</td>\n",
       "      <td>1280201981152432135</td>\n",
       "      <td>None</td>\n",
       "      <td>None</td>\n",
       "      <td>None</td>\n",
       "      <td>1253394375004114946</td>\n",
       "      <td>Mahdi_M314</td>\n",
       "      <td>Mahdi_M314</td>\n",
       "      <td>1253394375004114946</td>\n",
       "      <td>RT @Mahdi_M314: The children of Kashmir also w...</td>\n",
       "      <td>976540343889027072</td>\n",
       "      <td>MIQUEEN2019</td>\n",
       "      <td>150</td>\n",
       "    </tr>\n",
       "    <tr>\n",
       "      <th>7</th>\n",
       "      <td>2020-07-06 18:07:57+00:00</td>\n",
       "      <td>1280201835702300672</td>\n",
       "      <td>None</td>\n",
       "      <td>None</td>\n",
       "      <td>None</td>\n",
       "      <td>909099065526423553</td>\n",
       "      <td>MojtabaRohizade</td>\n",
       "      <td>MojtabaRohizade</td>\n",
       "      <td>909099065526423553</td>\n",
       "      <td>RT @MojtabaRohizade: ان شاء الله باز هم صدای م...</td>\n",
       "      <td>1240584055558725632</td>\n",
       "      <td>Hamed57030573</td>\n",
       "      <td>825</td>\n",
       "    </tr>\n",
       "    <tr>\n",
       "      <th>8</th>\n",
       "      <td>2020-07-06 18:07:35+00:00</td>\n",
       "      <td>1280201745663213569</td>\n",
       "      <td>None</td>\n",
       "      <td>None</td>\n",
       "      <td>None</td>\n",
       "      <td>None</td>\n",
       "      <td>None</td>\n",
       "      <td>None</td>\n",
       "      <td>None</td>\n",
       "      <td>#IranStandsWithKashmir\\n#kashmirbleeds https:/...</td>\n",
       "      <td>1185737669508304896</td>\n",
       "      <td>Kobra16054434</td>\n",
       "      <td>264</td>\n",
       "    </tr>\n",
       "    <tr>\n",
       "      <th>9</th>\n",
       "      <td>2020-07-06 18:07:35+00:00</td>\n",
       "      <td>1280201743305814016</td>\n",
       "      <td>None</td>\n",
       "      <td>None</td>\n",
       "      <td>None</td>\n",
       "      <td>732451881943883777</td>\n",
       "      <td>occupiedbypak</td>\n",
       "      <td>occupiedbypak</td>\n",
       "      <td>732451881943883777</td>\n",
       "      <td>RT @occupiedbypak: Locals accuse that Army rai...</td>\n",
       "      <td>1241073869181448192</td>\n",
       "      <td>Shant_Samundar</td>\n",
       "      <td>29</td>\n",
       "    </tr>\n",
       "    <tr>\n",
       "      <th>10</th>\n",
       "      <td>2020-07-06 18:07:28+00:00</td>\n",
       "      <td>1280201714298236928</td>\n",
       "      <td>None</td>\n",
       "      <td>None</td>\n",
       "      <td>None</td>\n",
       "      <td>1172757984306507776</td>\n",
       "      <td>divaneetar</td>\n",
       "      <td>divaneetar</td>\n",
       "      <td>1172757984306507776</td>\n",
       "      <td>RT @divaneetar: میبینید؟\\n راهپیمایی مردم کشمی...</td>\n",
       "      <td>1215620282494472193</td>\n",
       "      <td>MJRahimi93</td>\n",
       "      <td>1091</td>\n",
       "    </tr>\n",
       "    <tr>\n",
       "      <th>11</th>\n",
       "      <td>2020-07-06 18:07:24+00:00</td>\n",
       "      <td>1280201696409522182</td>\n",
       "      <td>None</td>\n",
       "      <td>None</td>\n",
       "      <td>None</td>\n",
       "      <td>185159449</td>\n",
       "      <td>RadioPakistan</td>\n",
       "      <td>RadioPakistan</td>\n",
       "      <td>185159449</td>\n",
       "      <td>RT @RadioPakistan: In occupied Kashmir, APHC w...</td>\n",
       "      <td>1020641221998530560</td>\n",
       "      <td>Khizer91208947</td>\n",
       "      <td>74</td>\n",
       "    </tr>\n",
       "    <tr>\n",
       "      <th>12</th>\n",
       "      <td>2020-07-06 18:07:09+00:00</td>\n",
       "      <td>1280201633423556616</td>\n",
       "      <td>None</td>\n",
       "      <td>None</td>\n",
       "      <td>None</td>\n",
       "      <td>1172757984306507776</td>\n",
       "      <td>divaneetar</td>\n",
       "      <td>divaneetar</td>\n",
       "      <td>1172757984306507776</td>\n",
       "      <td>RT @divaneetar: میبینید؟\\n راهپیمایی مردم کشمی...</td>\n",
       "      <td>1215326591930204161</td>\n",
       "      <td>Movahhed1366</td>\n",
       "      <td>664</td>\n",
       "    </tr>\n",
       "    <tr>\n",
       "      <th>13</th>\n",
       "      <td>2020-07-06 18:06:54+00:00</td>\n",
       "      <td>1280201570496524288</td>\n",
       "      <td>None</td>\n",
       "      <td>None</td>\n",
       "      <td>None</td>\n",
       "      <td>1172757984306507776</td>\n",
       "      <td>divaneetar</td>\n",
       "      <td>divaneetar</td>\n",
       "      <td>1172757984306507776</td>\n",
       "      <td>RT @divaneetar: فردا، سه‌شنبه، ساعت ۲۲ الی ۲۴\\...</td>\n",
       "      <td>1215326591930204161</td>\n",
       "      <td>Movahhed1366</td>\n",
       "      <td>664</td>\n",
       "    </tr>\n",
       "    <tr>\n",
       "      <th>14</th>\n",
       "      <td>2020-07-06 18:06:38+00:00</td>\n",
       "      <td>1280201505828753413</td>\n",
       "      <td>None</td>\n",
       "      <td>None</td>\n",
       "      <td>None</td>\n",
       "      <td>185159449</td>\n",
       "      <td>RadioPakistan</td>\n",
       "      <td>RadioPakistan</td>\n",
       "      <td>185159449</td>\n",
       "      <td>RT @RadioPakistan: In occupied Kashmir, APHC w...</td>\n",
       "      <td>971483390045237248</td>\n",
       "      <td>Truth_Lover37</td>\n",
       "      <td>655</td>\n",
       "    </tr>\n",
       "    <tr>\n",
       "      <th>15</th>\n",
       "      <td>2020-07-06 18:06:37+00:00</td>\n",
       "      <td>1280201499054878724</td>\n",
       "      <td>None</td>\n",
       "      <td>None</td>\n",
       "      <td>None</td>\n",
       "      <td>1253394375004114946</td>\n",
       "      <td>Mahdi_M314</td>\n",
       "      <td>Mahdi_M314</td>\n",
       "      <td>1253394375004114946</td>\n",
       "      <td>RT @Mahdi_M314: The children of Kashmir also w...</td>\n",
       "      <td>1236267624352407554</td>\n",
       "      <td>Mozhdeh_gho</td>\n",
       "      <td>973</td>\n",
       "    </tr>\n",
       "    <tr>\n",
       "      <th>16</th>\n",
       "      <td>2020-07-06 18:05:36+00:00</td>\n",
       "      <td>1280201243282071552</td>\n",
       "      <td>None</td>\n",
       "      <td>None</td>\n",
       "      <td>None</td>\n",
       "      <td>None</td>\n",
       "      <td>None</td>\n",
       "      <td>None</td>\n",
       "      <td>None</td>\n",
       "      <td>#KashmirBleeds\\n#iranstandwithkashmir https://...</td>\n",
       "      <td>1185737669508304896</td>\n",
       "      <td>Kobra16054434</td>\n",
       "      <td>264</td>\n",
       "    </tr>\n",
       "    <tr>\n",
       "      <th>17</th>\n",
       "      <td>2020-07-06 18:05:26+00:00</td>\n",
       "      <td>1280201203792527361</td>\n",
       "      <td>None</td>\n",
       "      <td>None</td>\n",
       "      <td>None</td>\n",
       "      <td>2598378145</td>\n",
       "      <td>shahriyarsyed1</td>\n",
       "      <td>shahriyarsyed1</td>\n",
       "      <td>2598378145</td>\n",
       "      <td>RT @shahriyarsyed1: Being  a journalist I feel...</td>\n",
       "      <td>3245788196</td>\n",
       "      <td>fakhris_gc</td>\n",
       "      <td>49</td>\n",
       "    </tr>\n",
       "    <tr>\n",
       "      <th>18</th>\n",
       "      <td>2020-07-06 18:05:14+00:00</td>\n",
       "      <td>1280201153876242437</td>\n",
       "      <td>None</td>\n",
       "      <td>None</td>\n",
       "      <td>None</td>\n",
       "      <td>1252659099612971011</td>\n",
       "      <td>DrHafsaKhan</td>\n",
       "      <td>DrHafsaKhan</td>\n",
       "      <td>1252659099612971011</td>\n",
       "      <td>RT @DrHafsaKhan: If these Pictures still not e...</td>\n",
       "      <td>1161271375790792704</td>\n",
       "      <td>Albanees06</td>\n",
       "      <td>54</td>\n",
       "    </tr>\n",
       "    <tr>\n",
       "      <th>19</th>\n",
       "      <td>2020-07-06 18:05:08+00:00</td>\n",
       "      <td>1280201128798564354</td>\n",
       "      <td>None</td>\n",
       "      <td>None</td>\n",
       "      <td>None</td>\n",
       "      <td>185159449</td>\n",
       "      <td>RadioPakistan</td>\n",
       "      <td>RadioPakistan</td>\n",
       "      <td>185159449</td>\n",
       "      <td>RT @RadioPakistan: In occupied Kashmir, APHC w...</td>\n",
       "      <td>987952863845462016</td>\n",
       "      <td>AbdulRafaySalem</td>\n",
       "      <td>84</td>\n",
       "    </tr>\n",
       "  </tbody>\n",
       "</table>\n",
       "</div>"
      ],
      "text/plain": [
       "                  created_at                   id in_reply_to_screen_name  \\\n",
       "0  2020-07-06 18:11:15+00:00  1280202665616568320                    None   \n",
       "1  2020-07-06 18:11:10+00:00  1280202647962877954                    None   \n",
       "2  2020-07-06 18:10:46+00:00  1280202544711716865                  bbr314   \n",
       "3  2020-07-06 18:09:46+00:00  1280202295796477960                    None   \n",
       "4  2020-07-06 18:09:45+00:00  1280202289874194432                    None   \n",
       "5  2020-07-06 18:09:22+00:00  1280202193329676293                    None   \n",
       "6  2020-07-06 18:08:31+00:00  1280201981152432135                    None   \n",
       "7  2020-07-06 18:07:57+00:00  1280201835702300672                    None   \n",
       "8  2020-07-06 18:07:35+00:00  1280201745663213569                    None   \n",
       "9  2020-07-06 18:07:35+00:00  1280201743305814016                    None   \n",
       "10 2020-07-06 18:07:28+00:00  1280201714298236928                    None   \n",
       "11 2020-07-06 18:07:24+00:00  1280201696409522182                    None   \n",
       "12 2020-07-06 18:07:09+00:00  1280201633423556616                    None   \n",
       "13 2020-07-06 18:06:54+00:00  1280201570496524288                    None   \n",
       "14 2020-07-06 18:06:38+00:00  1280201505828753413                    None   \n",
       "15 2020-07-06 18:06:37+00:00  1280201499054878724                    None   \n",
       "16 2020-07-06 18:05:36+00:00  1280201243282071552                    None   \n",
       "17 2020-07-06 18:05:26+00:00  1280201203792527361                    None   \n",
       "18 2020-07-06 18:05:14+00:00  1280201153876242437                    None   \n",
       "19 2020-07-06 18:05:08+00:00  1280201128798564354                    None   \n",
       "\n",
       "   in_reply_to_status_id in_reply_to_user_id         retweeted_id  \\\n",
       "0                   None                None  1154719634425176064   \n",
       "1                   None                None  1172757984306507776   \n",
       "2            1.28009e+18         8.55356e+17                 None   \n",
       "3                   None                None  1055847417323667458   \n",
       "4                   None                None            164508549   \n",
       "5                   None                None            185159449   \n",
       "6                   None                None  1253394375004114946   \n",
       "7                   None                None   909099065526423553   \n",
       "8                   None                None                 None   \n",
       "9                   None                None   732451881943883777   \n",
       "10                  None                None  1172757984306507776   \n",
       "11                  None                None            185159449   \n",
       "12                  None                None  1172757984306507776   \n",
       "13                  None                None  1172757984306507776   \n",
       "14                  None                None            185159449   \n",
       "15                  None                None  1253394375004114946   \n",
       "16                  None                None                 None   \n",
       "17                  None                None           2598378145   \n",
       "18                  None                None  1252659099612971011   \n",
       "19                  None                None            185159449   \n",
       "\n",
       "   retweeted_screen_name user_mentions_screen_name     user_mentions_id  \\\n",
       "0             aminsaki10                aminsaki10  1154719634425176064   \n",
       "1             divaneetar                divaneetar  1172757984306507776   \n",
       "2                   None                    bbr314   855355938584371200   \n",
       "3         Ma_Mohsenzadeh            Ma_Mohsenzadeh  1055847417323667458   \n",
       "4           _A_political              _A_political            164508549   \n",
       "5          RadioPakistan             RadioPakistan            185159449   \n",
       "6             Mahdi_M314                Mahdi_M314  1253394375004114946   \n",
       "7        MojtabaRohizade           MojtabaRohizade   909099065526423553   \n",
       "8                   None                      None                 None   \n",
       "9          occupiedbypak             occupiedbypak   732451881943883777   \n",
       "10            divaneetar                divaneetar  1172757984306507776   \n",
       "11         RadioPakistan             RadioPakistan            185159449   \n",
       "12            divaneetar                divaneetar  1172757984306507776   \n",
       "13            divaneetar                divaneetar  1172757984306507776   \n",
       "14         RadioPakistan             RadioPakistan            185159449   \n",
       "15            Mahdi_M314                Mahdi_M314  1253394375004114946   \n",
       "16                  None                      None                 None   \n",
       "17        shahriyarsyed1            shahriyarsyed1           2598378145   \n",
       "18           DrHafsaKhan               DrHafsaKhan  1252659099612971011   \n",
       "19         RadioPakistan             RadioPakistan            185159449   \n",
       "\n",
       "                                                 text              user_id  \\\n",
       "0   RT @aminsaki10: صدای هل من ناصر ینصرنی می اید ...   894817947704799234   \n",
       "1   RT @divaneetar: فردا، سه‌شنبه، ساعت ۲۲ الی ۲۴\\...  1216076009235271680   \n",
       "2             @bbr314 @T_hassanpour_99 #KashmirBleeds  1246477721200480256   \n",
       "3   RT @Ma_Mohsenzadeh: Today, we are waiting for ...  1045625681755942912   \n",
       "4   RT @_A_political: You can't just be concerned ...            164508549   \n",
       "5   RT @RadioPakistan: Posters have appeared in #S...  1270590367927275521   \n",
       "6   RT @Mahdi_M314: The children of Kashmir also w...   976540343889027072   \n",
       "7   RT @MojtabaRohizade: ان شاء الله باز هم صدای م...  1240584055558725632   \n",
       "8   #IranStandsWithKashmir\\n#kashmirbleeds https:/...  1185737669508304896   \n",
       "9   RT @occupiedbypak: Locals accuse that Army rai...  1241073869181448192   \n",
       "10  RT @divaneetar: میبینید؟\\n راهپیمایی مردم کشمی...  1215620282494472193   \n",
       "11  RT @RadioPakistan: In occupied Kashmir, APHC w...  1020641221998530560   \n",
       "12  RT @divaneetar: میبینید؟\\n راهپیمایی مردم کشمی...  1215326591930204161   \n",
       "13  RT @divaneetar: فردا، سه‌شنبه، ساعت ۲۲ الی ۲۴\\...  1215326591930204161   \n",
       "14  RT @RadioPakistan: In occupied Kashmir, APHC w...   971483390045237248   \n",
       "15  RT @Mahdi_M314: The children of Kashmir also w...  1236267624352407554   \n",
       "16  #KashmirBleeds\\n#iranstandwithkashmir https://...  1185737669508304896   \n",
       "17  RT @shahriyarsyed1: Being  a journalist I feel...           3245788196   \n",
       "18  RT @DrHafsaKhan: If these Pictures still not e...  1161271375790792704   \n",
       "19  RT @RadioPakistan: In occupied Kashmir, APHC w...   987952863845462016   \n",
       "\n",
       "        screen_name  followers_count  \n",
       "0         khafangoo              250  \n",
       "1          hadi_j01             2004  \n",
       "2   mohamma31337298               35  \n",
       "3        AvAbolfazl             1257  \n",
       "4      _A_political              218  \n",
       "5   kashifkhalidkh2                0  \n",
       "6       MIQUEEN2019              150  \n",
       "7     Hamed57030573              825  \n",
       "8     Kobra16054434              264  \n",
       "9    Shant_Samundar               29  \n",
       "10       MJRahimi93             1091  \n",
       "11   Khizer91208947               74  \n",
       "12     Movahhed1366              664  \n",
       "13     Movahhed1366              664  \n",
       "14    Truth_Lover37              655  \n",
       "15      Mozhdeh_gho              973  \n",
       "16    Kobra16054434              264  \n",
       "17       fakhris_gc               49  \n",
       "18       Albanees06               54  \n",
       "19  AbdulRafaySalem               84  "
      ]
     },
     "execution_count": 15,
     "metadata": {},
     "output_type": "execute_result"
    }
   ],
   "source": [
    "tweets_final.head(20)"
   ]
  },
  {
   "cell_type": "code",
   "execution_count": 16,
   "metadata": {},
   "outputs": [],
   "source": [
    "graph = nx.Graph()"
   ]
  },
  {
   "cell_type": "code",
   "execution_count": 17,
   "metadata": {},
   "outputs": [],
   "source": [
    "for index, tweet in tweets_final.iterrows():\n",
    "    user, interactions = get_interactions(tweet)\n",
    "    user_id, user_name = user\n",
    "    tweet_id = tweet[\"id\"]\n",
    "    #tweet_sent = tweet[\"sentiment\"]\n",
    "    for interaction in interactions:\n",
    "        int_id, int_name = interaction\n",
    "        graph.add_edge(user_id, int_id, tweet_id=tweet_id)\n",
    "        \n",
    "\n",
    "        graph.nodes[user_id][\"name\"] = user_name\n",
    "        graph.nodes[int_id][\"name\"] = int_name  "
   ]
  },
  {
   "cell_type": "code",
   "execution_count": 18,
   "metadata": {},
   "outputs": [
    {
     "name": "stdout",
     "output_type": "stream",
     "text": [
      "There are 29 nodes and 18 edges present in the Graph\n"
     ]
    }
   ],
   "source": [
    "print(f\"There are {graph.number_of_nodes()} nodes and {graph.number_of_edges()} edges present in the Graph\")"
   ]
  },
  {
   "cell_type": "code",
   "execution_count": 19,
   "metadata": {},
   "outputs": [],
   "source": [
    "degrees = [val for (node, val) in graph.degree()]\n"
   ]
  },
  {
   "cell_type": "code",
   "execution_count": 20,
   "metadata": {},
   "outputs": [
    {
     "name": "stdout",
     "output_type": "stream",
     "text": [
      "The maximum degree of the Graph is 4\n",
      "The minimum degree of the Graph is 1\n"
     ]
    }
   ],
   "source": [
    "print(f\"The maximum degree of the Graph is {np.max(degrees)}\")   \n",
    "print(f\"The minimum degree of the Graph is {np.min(degrees)}\")  "
   ]
  },
  {
   "cell_type": "code",
   "execution_count": 21,
   "metadata": {},
   "outputs": [
    {
     "name": "stdout",
     "output_type": "stream",
     "text": [
      "The average degree of the nodes in the Graph is 1.2\n",
      "The most frequent degree of the nodes found in the Graph is 1\n"
     ]
    }
   ],
   "source": [
    "print(f\"The average degree of the nodes in the Graph is {np.mean(degrees):.1f}\")  \n",
    "print(f\"The most frequent degree of the nodes found in the Graph is {stats.mode(degrees)[0][0]}\") "
   ]
  },
  {
   "cell_type": "code",
   "execution_count": 22,
   "metadata": {},
   "outputs": [
    {
     "name": "stdout",
     "output_type": "stream",
     "text": [
      "The graph is not connected\n"
     ]
    }
   ],
   "source": [
    "if nx.is_connected(graph):\n",
    "    print(\"The graph is connected\")\n",
    "else:\n",
    "    print(\"The graph is not connected\")"
   ]
  },
  {
   "cell_type": "code",
   "execution_count": 23,
   "metadata": {},
   "outputs": [
    {
     "name": "stdout",
     "output_type": "stream",
     "text": [
      "There are 11 connected components in the Graph\n"
     ]
    }
   ],
   "source": [
    "print(f\"There are {nx.number_connected_components(graph)} connected components in the Graph\")  "
   ]
  },
  {
   "cell_type": "code",
   "execution_count": 24,
   "metadata": {},
   "outputs": [
    {
     "name": "stdout",
     "output_type": "stream",
     "text": [
      "There are 11 connected components in the Graph\n"
     ]
    }
   ],
   "source": [
    "print(f\"There are {nx.number_connected_components(graph)} connected components in the Graph\")  "
   ]
  },
  {
   "cell_type": "code",
   "execution_count": 25,
   "metadata": {},
   "outputs": [],
   "source": [
    "largest_subgraph = max(nx.connected_component_subgraphs(graph), key=len)"
   ]
  },
  {
   "cell_type": "code",
   "execution_count": 26,
   "metadata": {},
   "outputs": [
    {
     "name": "stdout",
     "output_type": "stream",
     "text": [
      "There are 5 nodes and 4 edges present in the largest component of the Graph\n"
     ]
    }
   ],
   "source": [
    "print(f\"There are {largest_subgraph.number_of_nodes()} nodes and {largest_subgraph.number_of_edges()} \\\n",
    "edges present in the largest component of the Graph\")\n",
    "n = largest_subgraph.number_of_nodes()\n",
    "e = largest_subgraph.number_of_edges()"
   ]
  },
  {
   "cell_type": "code",
   "execution_count": 27,
   "metadata": {},
   "outputs": [],
   "source": [
    "g1 = nx.generators.random_graphs.barabasi_albert_graph(n, e)"
   ]
  },
  {
   "cell_type": "code",
   "execution_count": 28,
   "metadata": {},
   "outputs": [],
   "source": [
    "g2 = nx.generators.random_graphs.barabasi_albert_graph(n, e)"
   ]
  },
  {
   "cell_type": "code",
   "execution_count": 29,
   "metadata": {},
   "outputs": [
    {
     "name": "stdout",
     "output_type": "stream",
     "text": [
      "0.0\n"
     ]
    }
   ],
   "source": [
    "for v in nx.optimize_graph_edit_distance(g1, g2):\n",
    "    print(v)"
   ]
  },
  {
   "cell_type": "code",
   "execution_count": null,
   "metadata": {},
   "outputs": [],
   "source": []
  }
 ],
 "metadata": {
  "kernelspec": {
   "display_name": "Python 3",
   "language": "python",
   "name": "python3"
  },
  "language_info": {
   "codemirror_mode": {
    "name": "ipython",
    "version": 3
   },
   "file_extension": ".py",
   "mimetype": "text/x-python",
   "name": "python",
   "nbconvert_exporter": "python",
   "pygments_lexer": "ipython3",
   "version": "3.8.0"
  }
 },
 "nbformat": 4,
 "nbformat_minor": 4
}
